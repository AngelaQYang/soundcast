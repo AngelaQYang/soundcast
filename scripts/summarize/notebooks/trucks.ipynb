{
 "cells": [
  {
   "cell_type": "code",
   "execution_count": null,
   "metadata": {
    "collapsed": true
   },
   "outputs": [],
   "source": [
    "import os\n",
    "from os.path import basename\n",
    "import pandas as pd\n",
    "from pandas import *\n",
    "import time"
   ]
  },
  {
   "cell_type": "code",
   "execution_count": null,
   "metadata": {
    "collapsed": false
   },
   "outputs": [],
   "source": [
    "#  Read in the csv files for Parcel ID and Taz and Parcel ID and Use Type for join\n",
    "parcels = pd.read_csv(r'D:\\soundcast\\soundcast\\inputs\\buffered_parcels.dat', sep=' ')"
   ]
  },
  {
   "cell_type": "code",
   "execution_count": null,
   "metadata": {
    "collapsed": true
   },
   "outputs": [],
   "source": [
    "# Ideally, we attach a land use code to the urbansim input and filter directly from there\n",
    "# For now, we need to join in parcel land use info\n",
    "parcel_lu = pd.read_csv(r'R:\\Craig\\Trucks\\inputs\\TripGen\\Base\\parcels\\parcels_allowable_lu.txt')"
   ]
  },
  {
   "cell_type": "code",
   "execution_count": null,
   "metadata": {
    "collapsed": false
   },
   "outputs": [],
   "source": [
    "df = parcels.merge(parcel_lu, left_on='parcelid',right_on='parcel_id')"
   ]
  },
  {
   "cell_type": "code",
   "execution_count": null,
   "metadata": {
    "collapsed": true
   },
   "outputs": [],
   "source": [
    "# List of allowable truck land uses\n",
    "truck_uses = ['Agriculture','Fisheries','Forest, harvestable','Forest, protected','Industrial','Military','Mining','Warehousing']"
   ]
  },
  {
   "cell_type": "code",
   "execution_count": null,
   "metadata": {
    "collapsed": false
   },
   "outputs": [],
   "source": [
    "# select truck rows only, using the allowable truck land uses\n",
    "truck_df = df[df[\"generic_land_use_1\"].isin(truck_uses)]"
   ]
  },
  {
   "cell_type": "code",
   "execution_count": null,
   "metadata": {
    "collapsed": false
   },
   "outputs": [],
   "source": [
    "# For future reference, lookup all the use_codes for these generic_land_uses\n",
    "# return list of tuples that includes the generic name and all the use codes\n",
    "truck_use_codes = np.array(truck_df.groupby(['generic_land_use_1','use_code']).count().index)    # returns list of tuples\n",
    "truck_use_codes = [i[1] for i in truck_use_codes]    # extract only the use_code field, drop the generic_land_use_1 data\n",
    "\n",
    "# in future, probably want to use the use_code field to select truck rows like this:\n",
    "# df[df['use_code'].isin(truck_use_codes)]"
   ]
  },
  {
   "cell_type": "code",
   "execution_count": null,
   "metadata": {
    "collapsed": true
   },
   "outputs": [],
   "source": []
  },
  {
   "cell_type": "code",
   "execution_count": null,
   "metadata": {
    "collapsed": false
   },
   "outputs": [],
   "source": [
    "# Add a flag for truck allowable field\n",
    "truck_df['trucks_allowed_parcel'] = 1"
   ]
  },
  {
   "cell_type": "code",
   "execution_count": null,
   "metadata": {
    "collapsed": true
   },
   "outputs": [],
   "source": []
  },
  {
   "cell_type": "code",
   "execution_count": null,
   "metadata": {
    "collapsed": false
   },
   "outputs": [],
   "source": [
    "# merge the truck_df back into the main df\n",
    "df = df.merge(truck_df[['parcelid','trucks_allowed_parcel']], how='left')\n",
    "df['trucks_allowed_parcel'].fillna(0,inplace=True)    # Truck restricted parcels get a 0"
   ]
  },
  {
   "cell_type": "code",
   "execution_count": null,
   "metadata": {
    "collapsed": false
   },
   "outputs": [],
   "source": [
    "# Now, groupby TAZ and create new flag that allows trucks on TAZ with allowable land use\n",
    "df_taz = pd.DataFrame(df.groupby('taz_p').sum()[['trucks_allowed_parcel']])\n",
    "df_taz['trucks_allowed_taz'] = pd.cut(df_taz['trucks_allowed_parcel'], bins=[0,1,df_taz['trucks_allowed_parcel'].max()], labels=[0,1], include_lowest=True)"
   ]
  },
  {
   "cell_type": "code",
   "execution_count": null,
   "metadata": {
    "collapsed": false
   },
   "outputs": [],
   "source": []
  },
  {
   "cell_type": "code",
   "execution_count": null,
   "metadata": {
    "collapsed": false
   },
   "outputs": [],
   "source": [
    "df_taz['trucks_allowed_taz'].astype('int').sum()"
   ]
  },
  {
   "cell_type": "code",
   "execution_count": 6,
   "metadata": {
    "collapsed": false
   },
   "outputs": [],
   "source": [
    "import h5py\n",
    "import pandas as pd"
   ]
  },
  {
   "cell_type": "code",
   "execution_count": 88,
   "metadata": {
    "collapsed": true
   },
   "outputs": [],
   "source": [
    "# look at the output for midday\n",
    "\n",
    "newtruck = h5py.File(r'D:\\soundcast\\soundcast\\inputs\\4k\\auto.h5')"
   ]
  },
  {
   "cell_type": "code",
   "execution_count": 89,
   "metadata": {
    "collapsed": true
   },
   "outputs": [],
   "source": [
    "oldtruck = h5py.File(r'R:\\SoundCast\\releases\\TransportationFutures2010\\inputs\\4k\\auto.h5')"
   ]
  },
  {
   "cell_type": "code",
   "execution_count": 93,
   "metadata": {
    "collapsed": true
   },
   "outputs": [],
   "source": [
    "# Get results by regional growth center\n",
    "taz_lookup = pd.read_csv(r'R:\\SoundCast\\releases\\TransportationFutures2010\\scripts\\summarize\\TAZ_TAD_County.csv')"
   ]
  },
  {
   "cell_type": "code",
   "execution_count": 375,
   "metadata": {
    "collapsed": true
   },
   "outputs": [],
   "source": [
    "h5file = newtruck"
   ]
  },
  {
   "cell_type": "code",
   "execution_count": 376,
   "metadata": {
    "collapsed": false
   },
   "outputs": [],
   "source": [
    "production_total = {}\n",
    "for trk in ['lttrk', 'mdtrk','hvtrk']:\n",
    "    df = 0\n",
    "    for tod in ['am','md','pm','ev','ni']:\n",
    "        df += pd.DataFrame(h5file[tod][tod[0]+trk][:])\n",
    "    df = pd.DataFrame([df.sum(axis=0),df.index]).T\n",
    "    df.columns = [trk,'TAZ']\n",
    "    df['TAZ'] = [i+1 for i in df['TAZ']]    # offset TAZ by 1 to get true value\n",
    "    \n",
    "    # Join to geographic data\n",
    "    df = df.merge(taz_lookup, on='TAZ', how='left')\n",
    "    \n",
    "    production_total[trk] = df"
   ]
  },
  {
   "cell_type": "code",
   "execution_count": 377,
   "metadata": {
    "collapsed": false
   },
   "outputs": [],
   "source": [
    "attraction_total = {}\n",
    "for trk in ['lttrk', 'mdtrk','hvtrk']:\n",
    "    df = 0\n",
    "    for tod in ['am','md','pm','ev','ni']:\n",
    "        df += pd.DataFrame(h5file[tod][tod[0]+trk][:])\n",
    "    df = pd.DataFrame([df.sum(axis=1),df.index]).T\n",
    "    df.columns = [trk,'TAZ']\n",
    "    df['TAZ'] = [i+1 for i in df['TAZ']]    # offset TAZ by 1 to get true value\n",
    "    \n",
    "    # Join to geographic data\n",
    "    df = df.merge(taz_lookup, on='TAZ', how='left')\n",
    "    \n",
    "    attraction_total[trk] = df"
   ]
  },
  {
   "cell_type": "code",
   "execution_count": null,
   "metadata": {
    "collapsed": false
   },
   "outputs": [],
   "source": []
  },
  {
   "cell_type": "code",
   "execution_count": 378,
   "metadata": {
    "collapsed": false
   },
   "outputs": [],
   "source": [
    "# Format output\n",
    "pd.options.display.float_format = '{:,.0f}'.format"
   ]
  },
  {
   "cell_type": "code",
   "execution_count": 379,
   "metadata": {
    "collapsed": true
   },
   "outputs": [],
   "source": [
    "truck_list = ['lttrk', 'mdtrk','hvtrk']"
   ]
  },
  {
   "cell_type": "code",
   "execution_count": 431,
   "metadata": {
    "collapsed": false
   },
   "outputs": [
    {
     "data": {
      "text/html": [
       "<div style=\"max-height:1000px;max-width:1500px;overflow:auto;\">\n",
       "<table border=\"1\" class=\"dataframe\">\n",
       "  <thead>\n",
       "    <tr style=\"text-align: right;\">\n",
       "      <th>County</th>\n",
       "      <th>King</th>\n",
       "      <th>Kitsap</th>\n",
       "      <th>Pierce</th>\n",
       "      <th>Snohomish</th>\n",
       "    </tr>\n",
       "  </thead>\n",
       "  <tbody>\n",
       "    <tr>\n",
       "      <th>lttrk</th>\n",
       "      <td>188,652</td>\n",
       "      <td>17,072</td>\n",
       "      <td> 58,244</td>\n",
       "      <td> 53,199</td>\n",
       "    </tr>\n",
       "    <tr>\n",
       "      <th>mdtrk</th>\n",
       "      <td>122,746</td>\n",
       "      <td>11,092</td>\n",
       "      <td> 38,309</td>\n",
       "      <td> 35,216</td>\n",
       "    </tr>\n",
       "    <tr>\n",
       "      <th>hvtrk</th>\n",
       "      <td> 96,846</td>\n",
       "      <td> 6,056</td>\n",
       "      <td> 28,730</td>\n",
       "      <td> 23,453</td>\n",
       "    </tr>\n",
       "    <tr>\n",
       "      <th>Total</th>\n",
       "      <td>408,243</td>\n",
       "      <td>34,220</td>\n",
       "      <td>125,284</td>\n",
       "      <td>111,868</td>\n",
       "    </tr>\n",
       "  </tbody>\n",
       "</table>\n",
       "</div>"
      ],
      "text/plain": [
       "County    King  Kitsap  Pierce  Snohomish\n",
       "lttrk  188,652  17,072  58,244     53,199\n",
       "mdtrk  122,746  11,092  38,309     35,216\n",
       "hvtrk   96,846   6,056  28,730     23,453\n",
       "Total  408,243  34,220 125,284    111,868"
      ]
     },
     "execution_count": 431,
     "metadata": {},
     "output_type": "execute_result"
    }
   ],
   "source": [
    "attr = pd.DataFrame([attraction_total[trk].groupby('County').sum()[trk] for trk in truck_list])\n",
    "attr.loc['Total'] = attr.sum()\n",
    "attr"
   ]
  },
  {
   "cell_type": "code",
   "execution_count": 432,
   "metadata": {
    "collapsed": false
   },
   "outputs": [
    {
     "data": {
      "text/html": [
       "<div style=\"max-height:1000px;max-width:1500px;overflow:auto;\">\n",
       "<table border=\"1\" class=\"dataframe\">\n",
       "  <thead>\n",
       "    <tr style=\"text-align: right;\">\n",
       "      <th>County</th>\n",
       "      <th>King</th>\n",
       "      <th>Kitsap</th>\n",
       "      <th>Pierce</th>\n",
       "      <th>Snohomish</th>\n",
       "    </tr>\n",
       "  </thead>\n",
       "  <tbody>\n",
       "    <tr>\n",
       "      <th>lttrk</th>\n",
       "      <td>188,652</td>\n",
       "      <td>17,072</td>\n",
       "      <td> 58,244</td>\n",
       "      <td> 53,199</td>\n",
       "    </tr>\n",
       "    <tr>\n",
       "      <th>mdtrk</th>\n",
       "      <td>122,746</td>\n",
       "      <td>11,092</td>\n",
       "      <td> 38,309</td>\n",
       "      <td> 35,216</td>\n",
       "    </tr>\n",
       "    <tr>\n",
       "      <th>hvtrk</th>\n",
       "      <td> 97,299</td>\n",
       "      <td> 6,389</td>\n",
       "      <td> 28,710</td>\n",
       "      <td> 24,216</td>\n",
       "    </tr>\n",
       "    <tr>\n",
       "      <th>Total</th>\n",
       "      <td>408,696</td>\n",
       "      <td>34,553</td>\n",
       "      <td>125,264</td>\n",
       "      <td>112,631</td>\n",
       "    </tr>\n",
       "  </tbody>\n",
       "</table>\n",
       "</div>"
      ],
      "text/plain": [
       "County    King  Kitsap  Pierce  Snohomish\n",
       "lttrk  188,652  17,072  58,244     53,199\n",
       "mdtrk  122,746  11,092  38,309     35,216\n",
       "hvtrk   97,299   6,389  28,710     24,216\n",
       "Total  408,696  34,553 125,264    112,631"
      ]
     },
     "execution_count": 432,
     "metadata": {},
     "output_type": "execute_result"
    }
   ],
   "source": [
    "prod = pd.DataFrame([production_total[trk].groupby('County').sum()[trk] for trk in truck_list])\n",
    "prod.loc['Total'] = prod.sum()\n",
    "prod"
   ]
  },
  {
   "cell_type": "code",
   "execution_count": 505,
   "metadata": {
    "collapsed": false
   },
   "outputs": [
    {
     "data": {
      "text/html": [
       "<div style=\"max-height:1000px;max-width:1500px;overflow:auto;\">\n",
       "<table border=\"1\" class=\"dataframe\">\n",
       "  <thead>\n",
       "    <tr>\n",
       "      <th></th>\n",
       "      <th colspan=\"2\" halign=\"left\">King</th>\n",
       "      <th colspan=\"2\" halign=\"left\">Kitsap</th>\n",
       "      <th colspan=\"2\" halign=\"left\">Pierce</th>\n",
       "      <th colspan=\"2\" halign=\"left\">Snohomish</th>\n",
       "    </tr>\n",
       "    <tr>\n",
       "      <th></th>\n",
       "      <th>Productions</th>\n",
       "      <th>Attractions</th>\n",
       "      <th>Productions</th>\n",
       "      <th>Attractions</th>\n",
       "      <th>Productions</th>\n",
       "      <th>Attractions</th>\n",
       "      <th>Productions</th>\n",
       "      <th>Attractions</th>\n",
       "    </tr>\n",
       "  </thead>\n",
       "  <tbody>\n",
       "    <tr>\n",
       "      <th>lttrk</th>\n",
       "      <td>188,652</td>\n",
       "      <td>188,652</td>\n",
       "      <td>17,072</td>\n",
       "      <td>17,072</td>\n",
       "      <td> 58,244</td>\n",
       "      <td> 58,244</td>\n",
       "      <td> 53,199</td>\n",
       "      <td> 53,199</td>\n",
       "    </tr>\n",
       "    <tr>\n",
       "      <th>mdtrk</th>\n",
       "      <td>122,746</td>\n",
       "      <td>122,746</td>\n",
       "      <td>11,092</td>\n",
       "      <td>11,092</td>\n",
       "      <td> 38,309</td>\n",
       "      <td> 38,309</td>\n",
       "      <td> 35,216</td>\n",
       "      <td> 35,216</td>\n",
       "    </tr>\n",
       "    <tr>\n",
       "      <th>hvtrk</th>\n",
       "      <td> 97,299</td>\n",
       "      <td> 96,846</td>\n",
       "      <td> 6,389</td>\n",
       "      <td> 6,056</td>\n",
       "      <td> 28,710</td>\n",
       "      <td> 28,730</td>\n",
       "      <td> 24,216</td>\n",
       "      <td> 23,453</td>\n",
       "    </tr>\n",
       "    <tr>\n",
       "      <th>Total</th>\n",
       "      <td>408,696</td>\n",
       "      <td>408,243</td>\n",
       "      <td>34,553</td>\n",
       "      <td>34,220</td>\n",
       "      <td>125,264</td>\n",
       "      <td>125,284</td>\n",
       "      <td>112,631</td>\n",
       "      <td>111,868</td>\n",
       "    </tr>\n",
       "  </tbody>\n",
       "</table>\n",
       "</div>"
      ],
      "text/plain": [
       "             King                  Kitsap                  Pierce              \\\n",
       "      Productions Attractions Productions Attractions Productions Attractions   \n",
       "lttrk     188,652     188,652      17,072      17,072      58,244      58,244   \n",
       "mdtrk     122,746     122,746      11,092      11,092      38,309      38,309   \n",
       "hvtrk      97,299      96,846       6,389       6,056      28,710      28,730   \n",
       "Total     408,696     408,243      34,553      34,220     125,264     125,284   \n",
       "\n",
       "        Snohomish              \n",
       "      Productions Attractions  \n",
       "lttrk      53,199      53,199  \n",
       "mdtrk      35,216      35,216  \n",
       "hvtrk      24,216      23,453  \n",
       "Total     112,631     111,868  "
      ]
     },
     "execution_count": 505,
     "metadata": {},
     "output_type": "execute_result"
    }
   ],
   "source": [
    "########\n",
    "# Join prod and attr\n",
    "df = pd.concat([prod,attr], axis=1)[prod.columns]    # join dataframes and sort w/ county names adjacent\n",
    "# df = df\n",
    "df.columns = pd.MultiIndex.from_product([np.array(prod.columns),['Productions','Attractions']])\n",
    "# df.to_clipboard()\n",
    "df"
   ]
  },
  {
   "cell_type": "code",
   "execution_count": 506,
   "metadata": {
    "collapsed": false
   },
   "outputs": [
    {
     "data": {
      "text/html": [
       "<div style=\"max-height:1000px;max-width:1500px;overflow:auto;\">\n",
       "<table border=\"1\" class=\"dataframe\">\n",
       "  <thead>\n",
       "    <tr style=\"text-align: right;\">\n",
       "      <th>New DistrictName</th>\n",
       "      <th>East Side</th>\n",
       "      <th>Everett-Lynwood-Edmonds</th>\n",
       "      <th>Kitsap</th>\n",
       "      <th>North Seattle-Shoreline</th>\n",
       "      <th>Renton-FedWay-Kent</th>\n",
       "      <th>S.Kitsap</th>\n",
       "      <th>Seattle CBD</th>\n",
       "      <th>South Pierce</th>\n",
       "      <th>Suburban Snohomish</th>\n",
       "      <th>Tacoma</th>\n",
       "      <th>West-South Seattle</th>\n",
       "    </tr>\n",
       "  </thead>\n",
       "  <tbody>\n",
       "    <tr>\n",
       "      <th>lttrk</th>\n",
       "      <td> 59,475</td>\n",
       "      <td>29,787</td>\n",
       "      <td>17,072</td>\n",
       "      <td>23,868</td>\n",
       "      <td> 52,429</td>\n",
       "      <td>3,485</td>\n",
       "      <td>30,763</td>\n",
       "      <td>36,093</td>\n",
       "      <td>23,412</td>\n",
       "      <td>18,666</td>\n",
       "      <td>22,115</td>\n",
       "    </tr>\n",
       "    <tr>\n",
       "      <th>mdtrk</th>\n",
       "      <td> 39,592</td>\n",
       "      <td>19,631</td>\n",
       "      <td>11,092</td>\n",
       "      <td>15,701</td>\n",
       "      <td> 33,796</td>\n",
       "      <td>2,285</td>\n",
       "      <td>19,508</td>\n",
       "      <td>24,017</td>\n",
       "      <td>15,585</td>\n",
       "      <td>12,007</td>\n",
       "      <td>14,148</td>\n",
       "    </tr>\n",
       "    <tr>\n",
       "      <th>hvtrk</th>\n",
       "      <td> 25,273</td>\n",
       "      <td>14,493</td>\n",
       "      <td> 6,056</td>\n",
       "      <td> 7,925</td>\n",
       "      <td> 32,050</td>\n",
       "      <td>1,133</td>\n",
       "      <td>13,021</td>\n",
       "      <td>15,452</td>\n",
       "      <td> 8,960</td>\n",
       "      <td>12,145</td>\n",
       "      <td>18,577</td>\n",
       "    </tr>\n",
       "    <tr>\n",
       "      <th>Total</th>\n",
       "      <td>124,340</td>\n",
       "      <td>63,911</td>\n",
       "      <td>34,220</td>\n",
       "      <td>47,494</td>\n",
       "      <td>118,276</td>\n",
       "      <td>6,903</td>\n",
       "      <td>63,292</td>\n",
       "      <td>75,562</td>\n",
       "      <td>47,957</td>\n",
       "      <td>42,818</td>\n",
       "      <td>54,840</td>\n",
       "    </tr>\n",
       "  </tbody>\n",
       "</table>\n",
       "</div>"
      ],
      "text/plain": [
       "New DistrictName  East Side  Everett-Lynwood-Edmonds  Kitsap  \\\n",
       "lttrk                59,475                   29,787  17,072   \n",
       "mdtrk                39,592                   19,631  11,092   \n",
       "hvtrk                25,273                   14,493   6,056   \n",
       "Total               124,340                   63,911  34,220   \n",
       "\n",
       "New DistrictName  North Seattle-Shoreline  Renton-FedWay-Kent  S.Kitsap  \\\n",
       "lttrk                              23,868              52,429     3,485   \n",
       "mdtrk                              15,701              33,796     2,285   \n",
       "hvtrk                               7,925              32,050     1,133   \n",
       "Total                              47,494             118,276     6,903   \n",
       "\n",
       "New DistrictName  Seattle CBD  South Pierce  Suburban Snohomish  Tacoma  \\\n",
       "lttrk                  30,763        36,093              23,412  18,666   \n",
       "mdtrk                  19,508        24,017              15,585  12,007   \n",
       "hvtrk                  13,021        15,452               8,960  12,145   \n",
       "Total                  63,292        75,562              47,957  42,818   \n",
       "\n",
       "New DistrictName  West-South Seattle  \n",
       "lttrk                         22,115  \n",
       "mdtrk                         14,148  \n",
       "hvtrk                         18,577  \n",
       "Total                         54,840  "
      ]
     },
     "execution_count": 506,
     "metadata": {},
     "output_type": "execute_result"
    }
   ],
   "source": [
    "attr = pd.DataFrame([attraction_total[trk].groupby('New DistrictName').sum()[trk] for trk in truck_list])\n",
    "attr.loc['Total'] = attr.sum()\n",
    "attr"
   ]
  },
  {
   "cell_type": "code",
   "execution_count": 507,
   "metadata": {
    "collapsed": false
   },
   "outputs": [
    {
     "data": {
      "text/html": [
       "<div style=\"max-height:1000px;max-width:1500px;overflow:auto;\">\n",
       "<table border=\"1\" class=\"dataframe\">\n",
       "  <thead>\n",
       "    <tr style=\"text-align: right;\">\n",
       "      <th>New DistrictName</th>\n",
       "      <th>East Side</th>\n",
       "      <th>Everett-Lynwood-Edmonds</th>\n",
       "      <th>Kitsap</th>\n",
       "      <th>North Seattle-Shoreline</th>\n",
       "      <th>Renton-FedWay-Kent</th>\n",
       "      <th>S.Kitsap</th>\n",
       "      <th>Seattle CBD</th>\n",
       "      <th>South Pierce</th>\n",
       "      <th>Suburban Snohomish</th>\n",
       "      <th>Tacoma</th>\n",
       "      <th>West-South Seattle</th>\n",
       "    </tr>\n",
       "  </thead>\n",
       "  <tbody>\n",
       "    <tr>\n",
       "      <th>lttrk</th>\n",
       "      <td> 59,475</td>\n",
       "      <td>29,787</td>\n",
       "      <td>17,072</td>\n",
       "      <td>23,868</td>\n",
       "      <td> 52,429</td>\n",
       "      <td>3,485</td>\n",
       "      <td>30,763</td>\n",
       "      <td>36,093</td>\n",
       "      <td>23,412</td>\n",
       "      <td>18,666</td>\n",
       "      <td>22,115</td>\n",
       "    </tr>\n",
       "    <tr>\n",
       "      <th>mdtrk</th>\n",
       "      <td> 39,592</td>\n",
       "      <td>19,631</td>\n",
       "      <td>11,092</td>\n",
       "      <td>15,701</td>\n",
       "      <td> 33,796</td>\n",
       "      <td>2,285</td>\n",
       "      <td>19,508</td>\n",
       "      <td>24,017</td>\n",
       "      <td>15,585</td>\n",
       "      <td>12,007</td>\n",
       "      <td>14,148</td>\n",
       "    </tr>\n",
       "    <tr>\n",
       "      <th>hvtrk</th>\n",
       "      <td> 25,125</td>\n",
       "      <td>14,983</td>\n",
       "      <td> 6,389</td>\n",
       "      <td> 8,147</td>\n",
       "      <td> 31,321</td>\n",
       "      <td>1,132</td>\n",
       "      <td>13,954</td>\n",
       "      <td>15,455</td>\n",
       "      <td> 9,233</td>\n",
       "      <td>12,123</td>\n",
       "      <td>18,753</td>\n",
       "    </tr>\n",
       "    <tr>\n",
       "      <th>Total</th>\n",
       "      <td>124,192</td>\n",
       "      <td>64,401</td>\n",
       "      <td>34,553</td>\n",
       "      <td>47,716</td>\n",
       "      <td>117,547</td>\n",
       "      <td>6,902</td>\n",
       "      <td>64,226</td>\n",
       "      <td>75,565</td>\n",
       "      <td>48,230</td>\n",
       "      <td>42,797</td>\n",
       "      <td>55,016</td>\n",
       "    </tr>\n",
       "  </tbody>\n",
       "</table>\n",
       "</div>"
      ],
      "text/plain": [
       "New DistrictName  East Side  Everett-Lynwood-Edmonds  Kitsap  \\\n",
       "lttrk                59,475                   29,787  17,072   \n",
       "mdtrk                39,592                   19,631  11,092   \n",
       "hvtrk                25,125                   14,983   6,389   \n",
       "Total               124,192                   64,401  34,553   \n",
       "\n",
       "New DistrictName  North Seattle-Shoreline  Renton-FedWay-Kent  S.Kitsap  \\\n",
       "lttrk                              23,868              52,429     3,485   \n",
       "mdtrk                              15,701              33,796     2,285   \n",
       "hvtrk                               8,147              31,321     1,132   \n",
       "Total                              47,716             117,547     6,902   \n",
       "\n",
       "New DistrictName  Seattle CBD  South Pierce  Suburban Snohomish  Tacoma  \\\n",
       "lttrk                  30,763        36,093              23,412  18,666   \n",
       "mdtrk                  19,508        24,017              15,585  12,007   \n",
       "hvtrk                  13,954        15,455               9,233  12,123   \n",
       "Total                  64,226        75,565              48,230  42,797   \n",
       "\n",
       "New DistrictName  West-South Seattle  \n",
       "lttrk                         22,115  \n",
       "mdtrk                         14,148  \n",
       "hvtrk                         18,753  \n",
       "Total                         55,016  "
      ]
     },
     "execution_count": 507,
     "metadata": {},
     "output_type": "execute_result"
    }
   ],
   "source": [
    "prod = pd.DataFrame([production_total[trk].groupby('New DistrictName').sum()[trk] for trk in truck_list])\n",
    "prod.loc['Total'] = prod.sum()\n",
    "prod"
   ]
  },
  {
   "cell_type": "code",
   "execution_count": 429,
   "metadata": {
    "collapsed": false
   },
   "outputs": [
    {
     "data": {
      "text/plain": [
       "Index([u'East Side', u'Everett-Lynwood-Edmonds', u'Kitsap', u'North Seattle-Shoreline', u'Renton-FedWay-Kent', u'S.Kitsap', u'Seattle CBD', u'South Pierce', u'Suburban Snohomish', u'Tacoma', u'West-South Seattle'], dtype='object')"
      ]
     },
     "execution_count": 429,
     "metadata": {},
     "output_type": "execute_result"
    }
   ],
   "source": [
    "prod.columns"
   ]
  },
  {
   "cell_type": "code",
   "execution_count": 508,
   "metadata": {
    "collapsed": false
   },
   "outputs": [
    {
     "data": {
      "text/html": [
       "<div style=\"max-height:1000px;max-width:1500px;overflow:auto;\">\n",
       "<table border=\"1\" class=\"dataframe\">\n",
       "  <thead>\n",
       "    <tr>\n",
       "      <th></th>\n",
       "      <th colspan=\"2\" halign=\"left\">East Side</th>\n",
       "      <th colspan=\"2\" halign=\"left\">Everett-Lynwood-Edmonds</th>\n",
       "      <th colspan=\"2\" halign=\"left\">Kitsap</th>\n",
       "      <th colspan=\"2\" halign=\"left\">North Seattle-Shoreline</th>\n",
       "      <th colspan=\"2\" halign=\"left\">Renton-FedWay-Kent</th>\n",
       "      <th>...</th>\n",
       "      <th colspan=\"2\" halign=\"left\">Seattle CBD</th>\n",
       "      <th colspan=\"2\" halign=\"left\">South Pierce</th>\n",
       "      <th colspan=\"2\" halign=\"left\">Suburban Snohomish</th>\n",
       "      <th colspan=\"2\" halign=\"left\">Tacoma</th>\n",
       "      <th colspan=\"2\" halign=\"left\">West-South Seattle</th>\n",
       "    </tr>\n",
       "    <tr>\n",
       "      <th></th>\n",
       "      <th>Productions</th>\n",
       "      <th>Attractions</th>\n",
       "      <th>Productions</th>\n",
       "      <th>Attractions</th>\n",
       "      <th>Productions</th>\n",
       "      <th>Attractions</th>\n",
       "      <th>Productions</th>\n",
       "      <th>Attractions</th>\n",
       "      <th>Productions</th>\n",
       "      <th>Attractions</th>\n",
       "      <th>...</th>\n",
       "      <th>Productions</th>\n",
       "      <th>Attractions</th>\n",
       "      <th>Productions</th>\n",
       "      <th>Attractions</th>\n",
       "      <th>Productions</th>\n",
       "      <th>Attractions</th>\n",
       "      <th>Productions</th>\n",
       "      <th>Attractions</th>\n",
       "      <th>Productions</th>\n",
       "      <th>Attractions</th>\n",
       "    </tr>\n",
       "  </thead>\n",
       "  <tbody>\n",
       "    <tr>\n",
       "      <th>lttrk</th>\n",
       "      <td> 59,475</td>\n",
       "      <td> 59,475</td>\n",
       "      <td>29,787</td>\n",
       "      <td>29,787</td>\n",
       "      <td>17,072</td>\n",
       "      <td>17,072</td>\n",
       "      <td>23,868</td>\n",
       "      <td>23,868</td>\n",
       "      <td> 52,429</td>\n",
       "      <td> 52,429</td>\n",
       "      <td>...</td>\n",
       "      <td>30,763</td>\n",
       "      <td>30,763</td>\n",
       "      <td>36,093</td>\n",
       "      <td>36,093</td>\n",
       "      <td>23,412</td>\n",
       "      <td>23,412</td>\n",
       "      <td>18,666</td>\n",
       "      <td>18,666</td>\n",
       "      <td>22,115</td>\n",
       "      <td>22,115</td>\n",
       "    </tr>\n",
       "    <tr>\n",
       "      <th>mdtrk</th>\n",
       "      <td> 39,592</td>\n",
       "      <td> 39,592</td>\n",
       "      <td>19,631</td>\n",
       "      <td>19,631</td>\n",
       "      <td>11,092</td>\n",
       "      <td>11,092</td>\n",
       "      <td>15,701</td>\n",
       "      <td>15,701</td>\n",
       "      <td> 33,796</td>\n",
       "      <td> 33,796</td>\n",
       "      <td>...</td>\n",
       "      <td>19,508</td>\n",
       "      <td>19,508</td>\n",
       "      <td>24,017</td>\n",
       "      <td>24,017</td>\n",
       "      <td>15,585</td>\n",
       "      <td>15,585</td>\n",
       "      <td>12,007</td>\n",
       "      <td>12,007</td>\n",
       "      <td>14,148</td>\n",
       "      <td>14,148</td>\n",
       "    </tr>\n",
       "    <tr>\n",
       "      <th>hvtrk</th>\n",
       "      <td> 25,125</td>\n",
       "      <td> 25,273</td>\n",
       "      <td>14,983</td>\n",
       "      <td>14,493</td>\n",
       "      <td> 6,389</td>\n",
       "      <td> 6,056</td>\n",
       "      <td> 8,147</td>\n",
       "      <td> 7,925</td>\n",
       "      <td> 31,321</td>\n",
       "      <td> 32,050</td>\n",
       "      <td>...</td>\n",
       "      <td>13,954</td>\n",
       "      <td>13,021</td>\n",
       "      <td>15,455</td>\n",
       "      <td>15,452</td>\n",
       "      <td> 9,233</td>\n",
       "      <td> 8,960</td>\n",
       "      <td>12,123</td>\n",
       "      <td>12,145</td>\n",
       "      <td>18,753</td>\n",
       "      <td>18,577</td>\n",
       "    </tr>\n",
       "    <tr>\n",
       "      <th>Total</th>\n",
       "      <td>124,192</td>\n",
       "      <td>124,340</td>\n",
       "      <td>64,401</td>\n",
       "      <td>63,911</td>\n",
       "      <td>34,553</td>\n",
       "      <td>34,220</td>\n",
       "      <td>47,716</td>\n",
       "      <td>47,494</td>\n",
       "      <td>117,547</td>\n",
       "      <td>118,276</td>\n",
       "      <td>...</td>\n",
       "      <td>64,226</td>\n",
       "      <td>63,292</td>\n",
       "      <td>75,565</td>\n",
       "      <td>75,562</td>\n",
       "      <td>48,230</td>\n",
       "      <td>47,957</td>\n",
       "      <td>42,797</td>\n",
       "      <td>42,818</td>\n",
       "      <td>55,016</td>\n",
       "      <td>54,840</td>\n",
       "    </tr>\n",
       "  </tbody>\n",
       "</table>\n",
       "<p>4 rows × 22 columns</p>\n",
       "</div>"
      ],
      "text/plain": [
       "        East Side             Everett-Lynwood-Edmonds                  Kitsap  \\\n",
       "      Productions Attractions             Productions Attractions Productions   \n",
       "lttrk      59,475      59,475                  29,787      29,787      17,072   \n",
       "mdtrk      39,592      39,592                  19,631      19,631      11,092   \n",
       "hvtrk      25,125      25,273                  14,983      14,493       6,389   \n",
       "Total     124,192     124,340                  64,401      63,911      34,553   \n",
       "\n",
       "                  North Seattle-Shoreline             Renton-FedWay-Kent  \\\n",
       "      Attractions             Productions Attractions        Productions   \n",
       "lttrk      17,072                  23,868      23,868             52,429   \n",
       "mdtrk      11,092                  15,701      15,701             33,796   \n",
       "hvtrk       6,056                   8,147       7,925             31,321   \n",
       "Total      34,220                  47,716      47,494            117,547   \n",
       "\n",
       "                      ...     Seattle CBD             South Pierce  \\\n",
       "      Attractions     ...     Productions Attractions  Productions   \n",
       "lttrk      52,429     ...          30,763      30,763       36,093   \n",
       "mdtrk      33,796     ...          19,508      19,508       24,017   \n",
       "hvtrk      32,050     ...          13,954      13,021       15,455   \n",
       "Total     118,276     ...          64,226      63,292       75,565   \n",
       "\n",
       "                  Suburban Snohomish                  Tacoma              \\\n",
       "      Attractions        Productions Attractions Productions Attractions   \n",
       "lttrk      36,093             23,412      23,412      18,666      18,666   \n",
       "mdtrk      24,017             15,585      15,585      12,007      12,007   \n",
       "hvtrk      15,452              9,233       8,960      12,123      12,145   \n",
       "Total      75,562             48,230      47,957      42,797      42,818   \n",
       "\n",
       "      West-South Seattle              \n",
       "             Productions Attractions  \n",
       "lttrk             22,115      22,115  \n",
       "mdtrk             14,148      14,148  \n",
       "hvtrk             18,753      18,577  \n",
       "Total             55,016      54,840  \n",
       "\n",
       "[4 rows x 22 columns]"
      ]
     },
     "execution_count": 508,
     "metadata": {},
     "output_type": "execute_result"
    }
   ],
   "source": [
    "# Join prod and attr\n",
    "df = pd.concat([prod,attr], axis=1)[prod.columns]    # join dataframes and sort w/ county names adjacent\n",
    "# df = df\n",
    "df.columns = pd.MultiIndex.from_product([np.array(prod.columns),['Productions','Attractions']])\n",
    "# df.to_clipboard()\n",
    "df"
   ]
  },
  {
   "cell_type": "markdown",
   "metadata": {},
   "source": []
  }
 ],
 "metadata": {
  "kernelspec": {
   "display_name": "Python 2",
   "language": "python",
   "name": "python2"
  },
  "language_info": {
   "codemirror_mode": {
    "name": "ipython",
    "version": 2
   },
   "file_extension": ".py",
   "mimetype": "text/x-python",
   "name": "python",
   "nbconvert_exporter": "python",
   "pygments_lexer": "ipython2",
   "version": "2.7.9"
  }
 },
 "nbformat": 4,
 "nbformat_minor": 0
}
