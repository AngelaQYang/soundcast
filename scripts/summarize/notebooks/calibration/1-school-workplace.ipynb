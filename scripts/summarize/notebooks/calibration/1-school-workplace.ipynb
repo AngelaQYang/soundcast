{
 "cells": [
  {
   "cell_type": "markdown",
   "metadata": {},
   "source": [
    "These notebooks are used to compare a base and scenario, from surveys or model outputs, in H5 format. To run: from the menu bar above, choose **Cell -> Run All ** or run lines individually. Use the toggle button below to hide/show the raw Python code."
   ]
  },
  {
   "cell_type": "markdown",
   "metadata": {
    "collapsed": false
   },
   "source": [
    " ## School and Workplace Location Models"
   ]
  },
  {
   "cell_type": "markdown",
   "metadata": {},
   "source": [
    "\n",
    "    - Workplace Location\n",
    "        - by County\n",
    "        - by District\n",
    "    - School Location\n",
    "        - by County\n",
    "        - by District\n",
    "    - Workers Paying to Park at Work\n",
    "        - by Workplace County\n",
    "        - by Workplace District\n",
    "    - Transit Pass Ownership\n",
    "       - by Workplace County \n",
    "       - by Workplace District\n",
    "       - by Home County \n",
    "       - by Home District\n",
    "    - Auto Ownership\n",
    "       - by County\n",
    "       - by District\n",
    "---"
   ]
  },
  {
   "cell_type": "code",
   "execution_count": 71,
   "metadata": {
    "collapsed": true
   },
   "outputs": [],
   "source": [
    "# Base run for comparison\n",
    "base_run = r'R:\\SoundCast\\estimation\\2014\\P5\\skims_attached'\n",
    "\n",
    "# Scenario names\n",
    "base_name = '2014 Survey'\n",
    "scen_name = 'Soundcast'\n",
    "\n",
    "# Base Year for Validation data\n",
    "base_yr = 2014"
   ]
  },
  {
   "cell_type": "code",
   "execution_count": 2,
   "metadata": {
    "collapsed": false
   },
   "outputs": [
    {
     "data": {
      "text/html": [
       "<script>\n",
       "code_show=true; \n",
       "function code_toggle() {\n",
       " if (code_show){\n",
       " $('div.input').hide();\n",
       " } else {\n",
       " $('div.input').show();\n",
       " }\n",
       " code_show = !code_show\n",
       "} \n",
       "$( document ).ready(code_toggle);\n",
       "</script>\n",
       "<form action=\"javascript:code_toggle()\"><input type=\"submit\" value=\"Click here to toggle on/off the raw code.\"></form>"
      ],
      "text/plain": [
       "<IPython.core.display.HTML object>"
      ]
     },
     "execution_count": 2,
     "metadata": {},
     "output_type": "execute_result"
    }
   ],
   "source": [
    "from IPython.display import HTML\n",
    "\n",
    "HTML('''<script>\n",
    "code_show=true; \n",
    "function code_toggle() {\n",
    " if (code_show){\n",
    " $('div.input').hide();\n",
    " } else {\n",
    " $('div.input').show();\n",
    " }\n",
    " code_show = !code_show\n",
    "} \n",
    "$( document ).ready(code_toggle);\n",
    "</script>\n",
    "<form action=\"javascript:code_toggle()\"><input type=\"submit\" value=\"Click here to toggle on/off the raw code.\"></form>''')"
   ]
  },
  {
   "cell_type": "code",
   "execution_count": 2,
   "metadata": {
    "collapsed": false
   },
   "outputs": [
    {
     "name": "stdout",
     "output_type": "stream",
     "text": [
      "Populating the interactive namespace from numpy and matplotlib\n"
     ]
    }
   ],
   "source": [
    "import os\n",
    "import numpy as np\n",
    "import pandas as pd\n",
    "import h5py\n",
    "import pylab as P\n",
    "from IPython.display import display, display_pretty, Javascript, HTML\n",
    "import matplotlib\n",
    "import matplotlib.pyplot as plt\n",
    "matplotlib.style.use('ggplot')\n",
    "from matplotlib.backends.backend_pdf import PdfPages\n",
    "\n",
    "# Change working directory; only run this once since its a relative path change\n",
    "default_path = r'../../../..'\n",
    "os.chdir(default_path)\n",
    "\n",
    "# Show charts in notebook\n",
    "%pylab inline"
   ]
  },
  {
   "cell_type": "code",
   "execution_count": 4,
   "metadata": {
    "collapsed": false
   },
   "outputs": [],
   "source": [
    "# Load h5 or daysim outputs records\n",
    "# Refering to 2 datasets as BASE and SCEN (scenario)\n",
    "\n",
    "survey_loc = r'R:\\SoundCast\\estimation\\2014\\P5'\n",
    "\n",
    "base = h5py.File(survey_loc + r'\\survey14.h5','r+')\n",
    "base_name = '2014 Survey'\n",
    "\n",
    "# Note that expansion factor on daysim_outputs = 1 for each record, to allow direct comparison between survey records w/ exp. factor\n",
    "scen = h5py.File(r'outputs\\daysim_outputs.h5','r+')\n",
    "scen_name = 'Daysim'"
   ]
  },
  {
   "cell_type": "code",
   "execution_count": 57,
   "metadata": {
    "collapsed": false
   },
   "outputs": [],
   "source": [
    "def build_df(h5file, h5table, fields, nested=False):\n",
    "    '''return all fields from h5 table'''\n",
    "    data = {}\n",
    "    for field in fields:\n",
    "        if nested:\n",
    "            data[field] = [i[0] for i in h5file[h5table][field][:]]\n",
    "        else:   \n",
    "            data[field] = [i for i in h5file[h5table][field][:]]\n",
    "        \n",
    "    return pd.DataFrame(data)"
   ]
  },
  {
   "cell_type": "code",
   "execution_count": null,
   "metadata": {
    "collapsed": true
   },
   "outputs": [],
   "source": [
    "# Load trip, person, and household files from h5 files"
   ]
  },
  {
   "cell_type": "code",
   "execution_count": 106,
   "metadata": {
    "collapsed": false
   },
   "outputs": [],
   "source": [
    "trip_fields = ['dorp','dtaz','otaz','opurp','dpurp','mode','dpcl','opcl','arrtm','deptm','travdist','trexpfac']\n",
    "trip_base = build_df(h5file=base, h5table='Trip', fields=trip_fields)\n",
    "trip_scen = build_df(h5file=scen, h5table='Trip', fields=trip_fields)"
   ]
  },
  {
   "cell_type": "code",
   "execution_count": 112,
   "metadata": {
    "collapsed": false
   },
   "outputs": [],
   "source": [
    "person_fields = ['hhno','pno','ptpass','pwautime','pwaudist','pwtyp','pstyp','pwtaz','pstaz','pagey','pptyp','psexpfac']\n",
    "person_scen = build_df(h5file=scen, h5table='Person', fields=person_fields)\n",
    "person_base = build_df(h5file=base, h5table='Person', fields=person_fields)"
   ]
  },
  {
   "cell_type": "code",
   "execution_count": 287,
   "metadata": {
    "collapsed": false
   },
   "outputs": [],
   "source": [
    "# Create unique ID for person by concatenating household ID and person number \n",
    "person_scen['personID'] = (person_scen['Household ID'].astype('str')+person_scen['Person Number'].astype('str')).astype('int')\n",
    "person_base['personID'] = (person_base['Household ID'].astype('str')+person_base['Person Number'].astype('str')).astype('int')"
   ]
  },
  {
   "cell_type": "code",
   "execution_count": 60,
   "metadata": {
    "collapsed": true
   },
   "outputs": [],
   "source": [
    "hh_fields = ['hhno','hhsize','hhvehs','hhwkrs','hhincome','hhtaz','hhexpfac']\n",
    "hh_scen = build_df(h5file=scen, h5table='Household', fields=hh_fields)\n",
    "hh_base = build_df(h5file=base, h5table='Household', fields=hh_fields)"
   ]
  },
  {
   "cell_type": "code",
   "execution_count": 289,
   "metadata": {
    "collapsed": false
   },
   "outputs": [],
   "source": [
    "hh_scen = build_df(h5file=scen, h5table='Household', var_dict=hhdict, nested=False)\n",
    "hh_base = build_df(h5file=base, h5table='Household', var_dict=hhdict, nested=False)"
   ]
  },
  {
   "cell_type": "code",
   "execution_count": 114,
   "metadata": {
    "collapsed": false
   },
   "outputs": [],
   "source": [
    "# Join household records to person records\n",
    "hh_per_scen = pd.merge(left=person_scen, right=hh_scen,on='hhno',suffixes=('_p','_h'))\n",
    "hh_per_base = pd.merge(left=person_base, right=hh_base,on='hhno',suffixes=('_p','_h'))"
   ]
  },
  {
   "cell_type": "code",
   "execution_count": 115,
   "metadata": {
    "collapsed": false
   },
   "outputs": [],
   "source": [
    "# Join household geography\n",
    "taz_geog = pd.read_csv(r'scripts/summarize/inputs/calibration/TAZ_TAD_County.csv')\n",
    "taz_geog.reindex\n",
    "hh_per_scen_home_geog = pd.merge(hh_per_scen, taz_geog, left_on='hhtaz', right_on='TAZ')\n",
    "hh_per_base_home_geog = pd.merge(hh_per_base, taz_geog, left_on='hhtaz', right_on='TAZ')"
   ]
  },
  {
   "cell_type": "code",
   "execution_count": 116,
   "metadata": {
    "collapsed": true
   },
   "outputs": [],
   "source": [
    "# Join workplace geography\n",
    "hh_per_scen_work_geog = pd.merge(hh_per_scen, taz_geog, left_on='pwtaz', right_on='TAZ')\n",
    "hh_per_base_work_geog = pd.merge(hh_per_base, taz_geog, left_on='pwtaz', right_on='TAZ')"
   ]
  },
  {
   "cell_type": "code",
   "execution_count": 68,
   "metadata": {
    "collapsed": false
   },
   "outputs": [],
   "source": [
    "# Set some formatting options\n",
    "pd.options.display.float_format = '{:.1f}%'.format    # set float format as percent, until further notice"
   ]
  },
  {
   "cell_type": "code",
   "execution_count": 79,
   "metadata": {
    "collapsed": false
   },
   "outputs": [],
   "source": [
    "def report_field(field, expfac, df_base, df_scen, title=None, figsize=(5,5)):\n",
    "    '''print table summary of totals, distribution, and plot of distribution, for given field'''\n",
    "    \n",
    "    df = pd.DataFrame([df_base.groupby(field).sum()[expfac].astype('int'),\n",
    "                   df_scen.groupby(field).sum()[expfac].astype('int')]).T\n",
    "    df.columns=([scen_name,base_name])\n",
    "    df.loc['Total'] = df.sum(axis=0)\n",
    "    df['% Difference'] = ((df[scen_name] - df[base_name])/df[base_name])*100    # relative to base case\n",
    "    \n",
    "    print '--------Totals--------'\n",
    "    print '' \n",
    "    print df\n",
    "    \n",
    "    print ''\n",
    "    print ''\n",
    "    print '-----Distribution-----'\n",
    "    print ''\n",
    "\n",
    "    \n",
    "    df_new = pd.DataFrame([df[scen_name]/(df[scen_name].loc['Total']),\n",
    "             df[base_name]/(df[base_name].loc['Total'])]).T*100\n",
    "    df_new['% Difference'] = ((df_new[scen_name] - df_new[base_name])/df_new[base_name])*100    # relative to base case\n",
    "    print df_new\n",
    "    print ''\n",
    "    df_new.drop(df_new.tail(1).index, inplace=True)    # do not plot totals columnn\n",
    "    df_new[[scen_name,base_name]].plot(kind='bar', alpha=0.8, title=title, figsize=figsize)"
   ]
  },
  {
   "cell_type": "markdown",
   "metadata": {},
   "source": [
    "---"
   ]
  },
  {
   "cell_type": "markdown",
   "metadata": {},
   "source": [
    "## Workplace Location"
   ]
  },
  {
   "cell_type": "markdown",
   "metadata": {},
   "source": [
    "### by County"
   ]
  },
  {
   "cell_type": "code",
   "execution_count": 80,
   "metadata": {
    "collapsed": false
   },
   "outputs": [
    {
     "name": "stdout",
     "output_type": "stream",
     "text": [
      "--------Totals--------\n",
      "\n",
      "           Soundcast  2014 Survey  % Difference\n",
      "County                                         \n",
      "King         1121029      1140109         -1.7%\n",
      "Kitsap         79118       101795        -22.3%\n",
      "Pierce        254531       285553        -10.9%\n",
      "Snohomish     219565       258854        -15.2%\n",
      "Total        1674243      1786311         -6.3%\n",
      "\n",
      "\n",
      "-----Distribution-----\n",
      "\n",
      "           Soundcast  2014 Survey  % Difference\n",
      "County                                         \n",
      "King           67.0%        63.8%          4.9%\n",
      "Kitsap          4.7%         5.7%        -17.1%\n",
      "Pierce         15.2%        16.0%         -4.9%\n",
      "Snohomish      13.1%        14.5%         -9.5%\n",
      "Total         100.0%       100.0%          0.0%\n",
      "\n"
     ]
    },
    {
     "data": {
      "image/png": "[encoded data removed]",
      "text/plain": [
       "<matplotlib.figure.Figure at 0x666e8eb8>"
      ]
     },
     "metadata": {},
     "output_type": "display_data"
    }
   ],
   "source": [
    "report_field(field='County', expfac='hhexpfac',\n",
    "             df_base=hh_per_base_work_geog, \n",
    "             df_scen=hh_per_scen_work_geog, \n",
    "             title='Workplace Distribution by County')"
   ]
  },
  {
   "cell_type": "markdown",
   "metadata": {
    "collapsed": false
   },
   "source": [
    "### Workplace Location by District"
   ]
  },
  {
   "cell_type": "code",
   "execution_count": 82,
   "metadata": {
    "collapsed": false
   },
   "outputs": [
    {
     "name": "stdout",
     "output_type": "stream",
     "text": [
      "--------Totals--------\n",
      "\n",
      "                         Soundcast  2014 Survey  % Difference\n",
      "New DistrictName                                             \n",
      "East Side                   341627       331061          3.2%\n",
      "Everett-Lynwood-Edmonds     134170       152032        -11.7%\n",
      "Kitsap                       79118       101795        -22.3%\n",
      "North Seattle-Shoreline     145550       142736          2.0%\n",
      "Renton-FedWay-Kent          236524       288721        -18.1%\n",
      "S.Kitsap                     14534        19895        -26.9%\n",
      "Seattle CBD                 280301       247207         13.4%\n",
      "South Pierce                122157       144052        -15.2%\n",
      "Suburban Snohomish           85395       106822        -20.1%\n",
      "Tacoma                      117838       121606         -3.1%\n",
      "West-South Seattle          117025       130384        -10.2%\n",
      "Total                      1674239      1786311         -6.3%\n",
      "\n",
      "\n",
      "-----Distribution-----\n",
      "\n",
      "                         Soundcast  2014 Survey  % Difference\n",
      "New DistrictName                                             \n",
      "East Side                    20.4%        18.5%         10.1%\n",
      "Everett-Lynwood-Edmonds       8.0%         8.5%         -5.8%\n",
      "Kitsap                        4.7%         5.7%        -17.1%\n",
      "North Seattle-Shoreline       8.7%         8.0%          8.8%\n",
      "Renton-FedWay-Kent           14.1%        16.2%        -12.6%\n",
      "S.Kitsap                      0.9%         1.1%        -22.1%\n",
      "Seattle CBD                  16.7%        13.8%         21.0%\n",
      "South Pierce                  7.3%         8.1%         -9.5%\n",
      "Suburban Snohomish            5.1%         6.0%        -14.7%\n",
      "Tacoma                        7.0%         6.8%          3.4%\n",
      "West-South Seattle            7.0%         7.3%         -4.2%\n",
      "Total                       100.0%       100.0%          0.0%\n",
      "\n"
     ]
    },
    {
     "data": {
      "image/png": "[encoded data removed]",
      "text/plain": [
       "<matplotlib.figure.Figure at 0x129aa4f28>"
      ]
     },
     "metadata": {},
     "output_type": "display_data"
    }
   ],
   "source": [
    "report_field('New DistrictName', expfac='hhexpfac',\n",
    "             df_base=hh_per_base_work_geog, \n",
    "             df_scen=hh_per_scen_work_geog, \n",
    "             title='Workplace Distribution by District', figsize=(12,8))"
   ]
  },
  {
   "cell_type": "markdown",
   "metadata": {},
   "source": [
    "## Distance to Work"
   ]
  },
  {
   "cell_type": "code",
   "execution_count": 100,
   "metadata": {
    "collapsed": false
   },
   "outputs": [],
   "source": [
    "# Select all home -> work and work -> trips\n",
    "def get_work_trips(df):\n",
    "    \n",
    "    # home to work trips\n",
    "    work2home = df[df['opurp'] == 1]    # select all work destination\n",
    "    work2home = work2home[work2home['dpurp'] == 0]    # select all home origins\n",
    "\n",
    "    # work to home trips\n",
    "    home2work = df[df['opurp'] == 0]    # select all work destination\n",
    "    home2work = home2work[home2work['dpurp'] == 1]   # select all home origins\n",
    "\n",
    "    # all work trips\n",
    "    work_trips = work2home.append(home2work)\n",
    "    \n",
    "    return work_trips"
   ]
  },
  {
   "cell_type": "code",
   "execution_count": 101,
   "metadata": {
    "collapsed": false
   },
   "outputs": [],
   "source": [
    "def wt_mean(df, measure_col, weight_col, groupby_field=None):\n",
    "    '''Compute weighted statistic for a dataframe'''\n",
    "    \n",
    "    if groupby_field:\n",
    "        df['weighted'] = df[measure_col]*df[weight_col]\n",
    "        result_df = df.groupby(groupby_field).sum()['weighted']/df.sum()[weight_col]\n",
    "    else:\n",
    "        result_df = (df[measure_col]*df[weight_col]).sum()/df[weight_col].sum()\n",
    "    \n",
    "    return result_df"
   ]
  },
  {
   "cell_type": "code",
   "execution_count": 102,
   "metadata": {
    "collapsed": true
   },
   "outputs": [],
   "source": [
    "pd.options.display.float_format = '{:.1f}'.format "
   ]
  },
  {
   "cell_type": "code",
   "execution_count": 107,
   "metadata": {
    "collapsed": false
   },
   "outputs": [],
   "source": [
    "work_trips_base = get_work_trips(trip_base)\n",
    "work_trips_scen = get_work_trips(trip_scen)"
   ]
  },
  {
   "cell_type": "code",
   "execution_count": 108,
   "metadata": {
    "collapsed": false
   },
   "outputs": [],
   "source": [
    "# Exclude all -1 trips\n",
    "work_trips_base = work_trips_base[work_trips_base['travdist'] > 0]\n",
    "work_trips_scen = work_trips_scen[work_trips_scen['travdist'] > 0]"
   ]
  },
  {
   "cell_type": "markdown",
   "metadata": {},
   "source": [
    "** Average Distance to Work/Home**"
   ]
  },
  {
   "cell_type": "code",
   "execution_count": 110,
   "metadata": {
    "collapsed": false
   },
   "outputs": [
    {
     "name": "stdout",
     "output_type": "stream",
     "text": [
      "2014 Survey: 11.7616553021\n",
      "Soundcast: 13.489142888\n"
     ]
    }
   ],
   "source": [
    "print base_name + \": \" + str(wt_mean(df=work_trips_base, \n",
    "                                     measure_col='travdist', \n",
    "                                     weight_col='trexpfac')/100)\n",
    "print scen_name + \": \" + str(wt_mean(df=work_trips_scen, \n",
    "                                     measure_col='travdist', \n",
    "                                     weight_col='trexpfac'))"
   ]
  },
  {
   "cell_type": "code",
   "execution_count": 111,
   "metadata": {
    "collapsed": false
   },
   "outputs": [
    {
     "data": {
      "text/plain": [
       "<matplotlib.text.Text at 0x44915828>"
      ]
     },
     "execution_count": 111,
     "metadata": {},
     "output_type": "execute_result"
    },
    {
     "data": {
      "image/png": "[encoded data removed]",
      "text/plain": [
       "<matplotlib.figure.Figure at 0x79d82128>"
      ]
     },
     "metadata": {},
     "output_type": "display_data"
    }
   ],
   "source": [
    "(work_trips_base['travdist']/100).hist(bins=100, normed=True,\n",
    "                                              weights=work_trips_base['trexpfac'].values,\n",
    "                                             alpha=0.5, range=[0,50],\n",
    "                                             label=base_name)\n",
    "\n",
    "work_trips_scen['travdist'].hist(bins=100, normed=True, \n",
    "                                        alpha=0.5, range=[0,50],\n",
    "                                       label=scen_name)\n",
    "\n",
    "pyplot.legend(loc='upper right')\n",
    "pyplot.title('Distance to Work, All Modes')"
   ]
  },
  {
   "cell_type": "markdown",
   "metadata": {},
   "source": [
    "---"
   ]
  },
  {
   "cell_type": "markdown",
   "metadata": {},
   "source": [
    "## School Location"
   ]
  },
  {
   "cell_type": "code",
   "execution_count": 117,
   "metadata": {
    "collapsed": false
   },
   "outputs": [],
   "source": [
    "# Join school geography\n",
    "hh_per_scen_school_geog = pd.merge(hh_per_scen, taz_geog, left_on='pstaz', right_on='TAZ')\n",
    "hh_per_base_school_geog = pd.merge(hh_per_base, taz_geog, left_on='pstaz', right_on='TAZ')"
   ]
  },
  {
   "cell_type": "markdown",
   "metadata": {},
   "source": [
    "### By County"
   ]
  },
  {
   "cell_type": "code",
   "execution_count": 120,
   "metadata": {
    "collapsed": false
   },
   "outputs": [
    {
     "name": "stdout",
     "output_type": "stream",
     "text": [
      "--------Totals--------\n",
      "\n",
      "           Soundcast  2014 Survey  % Difference\n",
      "County                                         \n",
      "King          692792       509961          35.9\n",
      "Kitsap         63814        64244          -0.7\n",
      "Pierce        239216       208352          14.8\n",
      "Snohomish     187979       189855          -1.0\n",
      "Total        1183801       972412          21.7\n",
      "\n",
      "\n",
      "-----Distribution-----\n",
      "\n",
      "           Soundcast  2014 Survey  % Difference\n",
      "County                                         \n",
      "King            58.5         52.4          11.6\n",
      "Kitsap           5.4          6.6         -18.4\n",
      "Pierce          20.2         21.4          -5.7\n",
      "Snohomish       15.9         19.5         -18.7\n",
      "Total          100.0        100.0           0.0\n",
      "\n"
     ]
    },
    {
     "data": {
      "image/png": "[encoded data removed]",
      "text/plain": [
       "<matplotlib.figure.Figure at 0x6f23e5f8>"
      ]
     },
     "metadata": {},
     "output_type": "display_data"
    }
   ],
   "source": [
    "report_field(field='County', expfac='psexpfac',\n",
    "             df_base=hh_per_base_school_geog, \n",
    "             df_scen=hh_per_scen_school_geog, \n",
    "             title='School Distribution by County', figsize=(8,8))"
   ]
  },
  {
   "cell_type": "markdown",
   "metadata": {
    "collapsed": true
   },
   "source": [
    "### School Location by District"
   ]
  },
  {
   "cell_type": "code",
   "execution_count": 125,
   "metadata": {
    "collapsed": false
   },
   "outputs": [
    {
     "name": "stdout",
     "output_type": "stream",
     "text": [
      "--------Totals--------\n",
      "\n",
      "                         Soundcast  2014 Survey  % Difference\n",
      "New DistrictName                                             \n",
      "East Side                   239550       165228          45.0\n",
      "Everett-Lynwood-Edmonds      89072        74502          19.6\n",
      "Kitsap                       63814        64244          -0.7\n",
      "North Seattle-Shoreline     156919        78851          99.0\n",
      "Renton-FedWay-Kent          135589       161415         -16.0\n",
      "S.Kitsap                     14677        13659           7.5\n",
      "Seattle CBD                 102559        49515         107.1\n",
      "South Pierce                149147       128679          15.9\n",
      "Suburban Snohomish           98907       115353         -14.3\n",
      "Tacoma                       75392        66014          14.2\n",
      "West-South Seattle           58174        54952           5.9\n",
      "Total                      1183800       972412          21.7\n",
      "\n",
      "\n",
      "-----Distribution-----\n",
      "\n",
      "                         Soundcast  2014 Survey  % Difference\n",
      "New DistrictName                                             \n",
      "East Side                     20.2         17.0          19.1\n",
      "Everett-Lynwood-Edmonds        7.5          7.7          -1.8\n",
      "Kitsap                         5.4          6.6         -18.4\n",
      "North Seattle-Shoreline       13.3          8.1          63.5\n",
      "Renton-FedWay-Kent            11.5         16.6         -31.0\n",
      "S.Kitsap                       1.2          1.4         -11.7\n",
      "Seattle CBD                    8.7          5.1          70.1\n",
      "South Pierce                  12.6         13.2          -4.8\n",
      "Suburban Snohomish             8.4         11.9         -29.6\n",
      "Tacoma                         6.4          6.8          -6.2\n",
      "West-South Seattle             4.9          5.7         -13.0\n",
      "Total                        100.0        100.0           0.0\n",
      "\n"
     ]
    },
    {
     "data": {
      "image/png": "[encoded data removed]",
      "text/plain": [
       "<matplotlib.figure.Figure at 0x18aa2f60>"
      ]
     },
     "metadata": {},
     "output_type": "display_data"
    }
   ],
   "source": [
    "report_field(field='New DistrictName', expfac='psexpfac',\n",
    "             df_base=hh_per_base_school_geog, \n",
    "             df_scen=hh_per_scen_school_geog, \n",
    "             title='School Distribution by District', figsize=(8,8))"
   ]
  },
  {
   "cell_type": "markdown",
   "metadata": {
    "collapsed": true
   },
   "source": [
    "# Transit Pass Ownership"
   ]
  },
  {
   "cell_type": "code",
   "execution_count": 126,
   "metadata": {
    "collapsed": false
   },
   "outputs": [
    {
     "name": "stderr",
     "output_type": "stream",
     "text": [
      "C:\\Users\\Brice\\AppData\\Local\\Continuum\\Anaconda\\lib\\site-packages\\ipykernel\\__main__.py:8: SettingWithCopyWarning: \n",
      "A value is trying to be set on a copy of a slice from a DataFrame.\n",
      "Try using .loc[row_indexer,col_indexer] = value instead\n",
      "\n",
      "See the caveats in the documentation: http://pandas.pydata.org/pandas-docs/stable/indexing.html#indexing-view-versus-copy\n",
      "C:\\Users\\Brice\\AppData\\Local\\Continuum\\Anaconda\\lib\\site-packages\\ipykernel\\__main__.py:9: SettingWithCopyWarning: \n",
      "A value is trying to be set on a copy of a slice from a DataFrame.\n",
      "Try using .loc[row_indexer,col_indexer] = value instead\n",
      "\n",
      "See the caveats in the documentation: http://pandas.pydata.org/pandas-docs/stable/indexing.html#indexing-view-versus-copy\n"
     ]
    }
   ],
   "source": [
    "# 2014 survey has multiple fields for transit pass ownership. Sum all non-zero fields into 1, for yes/no\n",
    "\n",
    "# Drop -1 (no answer rows for transit pass)\n",
    "df_pass_base_home = hh_per_base_home_geog[hh_per_base_home_geog['ptpass'] >= 0]\n",
    "df_pass_base_work = hh_per_base_work_geog[hh_per_base_work_geog['ptpass'] >= 0]\n",
    "\n",
    "# Convert categorical responses (different pass types) to binary yes/no\n",
    "df_pass_base_home['ptpass'] = df_pass_base_home['ptpass'].apply(lambda x: 1 if x >=1 else 0)\n",
    "df_pass_base_work['ptpass'] = df_pass_base_work['ptpass'].apply(lambda x: 1 if x >=1 else 0)"
   ]
  },
  {
   "cell_type": "markdown",
   "metadata": {},
   "source": [
    "### Region Wide"
   ]
  },
  {
   "cell_type": "code",
   "execution_count": 128,
   "metadata": {
    "collapsed": false
   },
   "outputs": [
    {
     "name": "stdout",
     "output_type": "stream",
     "text": [
      "--------Totals--------\n",
      "\n",
      "        Soundcast  2014 Survey  % Difference\n",
      "ptpass                                      \n",
      "0         2299667      3088967         -25.6\n",
      "1          467002       507572          -8.0\n",
      "Total     2766669      3596539         -23.1\n",
      "\n",
      "\n",
      "-----Distribution-----\n",
      "\n",
      "        Soundcast  2014 Survey  % Difference\n",
      "ptpass                                      \n",
      "0            83.1         85.9          -3.2\n",
      "1            16.9         14.1          19.6\n",
      "Total       100.0        100.0           0.0\n",
      "\n"
     ]
    },
    {
     "data": {
      "image/png": "[encoded data removed]",
      "text/plain": [
       "<matplotlib.figure.Figure at 0xcfd99390>"
      ]
     },
     "metadata": {},
     "output_type": "display_data"
    }
   ],
   "source": [
    "report_field('ptpass', expfac='psexpfac',\n",
    "             df_base=df_pass_base_home, \n",
    "             df_scen=hh_per_scen_home_geog, \n",
    "             title='Transit Pass', figsize=(4,4))"
   ]
  },
  {
   "cell_type": "markdown",
   "metadata": {},
   "source": [
    "## By Home County"
   ]
  },
  {
   "cell_type": "code",
   "execution_count": 140,
   "metadata": {
    "collapsed": false
   },
   "outputs": [],
   "source": [
    "def transit_pass(df_base, expfac, df_scen, geography, title=None):\n",
    "    df_result = pd.DataFrame()\n",
    "\n",
    "    # base\n",
    "    df = pd.pivot_table(data=df_base, columns=['ptpass'], index=geography, \n",
    "                   values=expfac, aggfunc='sum').astype('int')\n",
    "    df_result[base_name] = (df[1]/df.sum(axis=1))*100\n",
    "    df_result\n",
    "\n",
    "    # scenario\n",
    "    df = pd.pivot_table(data=df_scen, columns=['ptpass'], index=geography, \n",
    "                   values=expfac, aggfunc='sum').astype('int')\n",
    "    df_result[scen_name] = (df[1]/df.sum(axis=1))*100\n",
    "    \n",
    "    print df_result\n",
    "    print \"\"\n",
    "    print \"--------------------------\"\n",
    "    print \"\"\n",
    "    print df_result.plot(kind='bar', title=title, alpha=0.8)"
   ]
  },
  {
   "cell_type": "code",
   "execution_count": 141,
   "metadata": {
    "collapsed": false
   },
   "outputs": [
    {
     "name": "stdout",
     "output_type": "stream",
     "text": [
      "           2014 Survey  Soundcast\n",
      "County                           \n",
      "King              22.1       17.1\n",
      "Kitsap            17.5        7.0\n",
      "Pierce             8.4       10.8\n",
      "Snohomish         11.0       12.2\n",
      "\n",
      "--------------------------\n",
      "\n",
      "Axes(0.125,0.125;0.775x0.775)\n"
     ]
    },
    {
     "data": {
      "image/png": "[encoded data removed]",
      "text/plain": [
       "<matplotlib.figure.Figure at 0xcce2f128>"
      ]
     },
     "metadata": {},
     "output_type": "display_data"
    }
   ],
   "source": [
    "transit_pass(df_base=df_pass_base_home, expfac='hhexpfac',\n",
    "             df_scen=hh_per_scen_home_geog, \n",
    "             geography='County', title='Transit Pass Ownership by Home County')"
   ]
  },
  {
   "cell_type": "code",
   "execution_count": 142,
   "metadata": {
    "collapsed": false
   },
   "outputs": [
    {
     "name": "stdout",
     "output_type": "stream",
     "text": [
      "                         2014 Survey  Soundcast\n",
      "New DistrictName                               \n",
      "East Side                       17.5       12.2\n",
      "Everett-Lynwood-Edmonds         14.3       15.7\n",
      "Kitsap                          17.5        7.0\n",
      "North Seattle-Shoreline         31.3       23.9\n",
      "Renton-FedWay-Kent              10.1       12.3\n",
      "S.Kitsap                         5.9        5.8\n",
      "Seattle CBD                     38.7       34.5\n",
      "South Pierce                     6.0        9.5\n",
      "Suburban Snohomish               8.9       10.0\n",
      "Tacoma                          13.5       14.9\n",
      "West-South Seattle              32.4       19.5\n",
      "\n",
      "--------------------------\n",
      "\n",
      "Axes(0.125,0.125;0.775x0.775)\n"
     ]
    },
    {
     "data": {
      "image/png": "[encoded data removed]",
      "text/plain": [
       "<matplotlib.figure.Figure at 0x63fb5be0>"
      ]
     },
     "metadata": {},
     "output_type": "display_data"
    }
   ],
   "source": [
    "transit_pass(df_base=df_pass_base_home, expfac='hhexpfac',\n",
    "             df_scen=hh_per_scen_home_geog, \n",
    "             geography='New DistrictName', title='Transit Pass Ownership by Home District')"
   ]
  },
  {
   "cell_type": "markdown",
   "metadata": {},
   "source": [
    "### By Work Location"
   ]
  },
  {
   "cell_type": "markdown",
   "metadata": {},
   "source": [
    "## County Work Location"
   ]
  },
  {
   "cell_type": "code",
   "execution_count": 143,
   "metadata": {
    "collapsed": false
   },
   "outputs": [
    {
     "name": "stdout",
     "output_type": "stream",
     "text": [
      "           2014 Survey  Soundcast\n",
      "County                           \n",
      "King              29.9       22.5\n",
      "Kitsap            18.0        5.1\n",
      "Pierce             6.6        8.8\n",
      "Snohomish          8.4        8.3\n",
      "\n",
      "--------------------------\n",
      "\n",
      "Axes(0.125,0.125;0.775x0.775)\n"
     ]
    },
    {
     "data": {
      "image/png": "[encoded data removed]",
      "text/plain": [
       "<matplotlib.figure.Figure at 0xb445d128>"
      ]
     },
     "metadata": {},
     "output_type": "display_data"
    }
   ],
   "source": [
    "transit_pass(df_base=df_pass_base_work, expfac='hhexpfac',\n",
    "             df_scen=hh_per_scen_work_geog, \n",
    "             geography='County', title='Transit Pass Ownership by Work County')"
   ]
  },
  {
   "cell_type": "markdown",
   "metadata": {
    "collapsed": false
   },
   "source": [
    "## by Work District"
   ]
  },
  {
   "cell_type": "code",
   "execution_count": 145,
   "metadata": {
    "collapsed": false
   },
   "outputs": [
    {
     "name": "stdout",
     "output_type": "stream",
     "text": [
      "                         2014 Survey  Soundcast\n",
      "New DistrictName                               \n",
      "East Side                       18.4       14.7\n",
      "Everett-Lynwood-Edmonds         10.5       11.1\n",
      "Kitsap                          18.0        5.1\n",
      "North Seattle-Shoreline         33.2       23.7\n",
      "Renton-FedWay-Kent              11.7       11.5\n",
      "S.Kitsap                         4.4        5.3\n",
      "Seattle CBD                     57.7       47.0\n",
      "South Pierce                     2.5        5.3\n",
      "Suburban Snohomish               5.2        4.1\n",
      "Tacoma                          11.1       13.6\n",
      "West-South Seattle              29.9       19.2\n",
      "\n",
      "--------------------------\n",
      "\n",
      "Axes(0.125,0.125;0.775x0.775)\n"
     ]
    },
    {
     "data": {
      "image/png": "[encoded data removed]",
      "text/plain": [
       "<matplotlib.figure.Figure at 0xa375a6d8>"
      ]
     },
     "metadata": {},
     "output_type": "display_data"
    }
   ],
   "source": [
    "transit_pass(df_base=df_pass_base_work, expfac='hhexpfac',\n",
    "             df_scen=hh_per_scen_work_geog, \n",
    "             geography='New DistrictName', title='Transit Pass Ownership by Work District')"
   ]
  },
  {
   "cell_type": "markdown",
   "metadata": {},
   "source": [
    "---"
   ]
  },
  {
   "cell_type": "markdown",
   "metadata": {},
   "source": [
    "# Auto Ownership"
   ]
  },
  {
   "cell_type": "code",
   "execution_count": 147,
   "metadata": {
    "collapsed": false
   },
   "outputs": [
    {
     "name": "stdout",
     "output_type": "stream",
     "text": [
      "Vehicles per Household\n"
     ]
    },
    {
     "data": {
      "text/html": [
       "<div>\n",
       "<table border=\"1\" class=\"dataframe\">\n",
       "  <thead>\n",
       "    <tr style=\"text-align: right;\">\n",
       "      <th></th>\n",
       "      <th>Soundcast</th>\n",
       "      <th>2014 Survey</th>\n",
       "    </tr>\n",
       "    <tr>\n",
       "      <th>hhvehs</th>\n",
       "      <th></th>\n",
       "      <th></th>\n",
       "    </tr>\n",
       "  </thead>\n",
       "  <tbody>\n",
       "    <tr>\n",
       "      <th>0</th>\n",
       "      <td>110375</td>\n",
       "      <td>116720</td>\n",
       "    </tr>\n",
       "    <tr>\n",
       "      <th>1</th>\n",
       "      <td>421679</td>\n",
       "      <td>477848</td>\n",
       "    </tr>\n",
       "    <tr>\n",
       "      <th>2</th>\n",
       "      <td>562190</td>\n",
       "      <td>560222</td>\n",
       "    </tr>\n",
       "    <tr>\n",
       "      <th>3</th>\n",
       "      <td>240517</td>\n",
       "      <td>218361</td>\n",
       "    </tr>\n",
       "    <tr>\n",
       "      <th>4</th>\n",
       "      <td>114591</td>\n",
       "      <td>72856</td>\n",
       "    </tr>\n",
       "    <tr>\n",
       "      <th>5</th>\n",
       "      <td>0</td>\n",
       "      <td>22097</td>\n",
       "    </tr>\n",
       "    <tr>\n",
       "      <th>6</th>\n",
       "      <td>0</td>\n",
       "      <td>2295</td>\n",
       "    </tr>\n",
       "    <tr>\n",
       "      <th>7</th>\n",
       "      <td>0</td>\n",
       "      <td>4625</td>\n",
       "    </tr>\n",
       "    <tr>\n",
       "      <th>8</th>\n",
       "      <td>0</td>\n",
       "      <td>1874</td>\n",
       "    </tr>\n",
       "    <tr>\n",
       "      <th>10</th>\n",
       "      <td>0</td>\n",
       "      <td>1537</td>\n",
       "    </tr>\n",
       "  </tbody>\n",
       "</table>\n",
       "</div>"
      ],
      "text/plain": [
       "        Soundcast  2014 Survey\n",
       "hhvehs                        \n",
       "0          110375       116720\n",
       "1          421679       477848\n",
       "2          562190       560222\n",
       "3          240517       218361\n",
       "4          114591        72856\n",
       "5               0        22097\n",
       "6               0         2295\n",
       "7               0         4625\n",
       "8               0         1874\n",
       "10              0         1537"
      ]
     },
     "execution_count": 147,
     "metadata": {},
     "output_type": "execute_result"
    }
   ],
   "source": [
    "print 'Vehicles per Household'\n",
    "df = pd.DataFrame([(hh_scen.groupby('hhvehs').sum()['hhexpfac']),\n",
    "                   hh_base.groupby('hhvehs').sum()['hhexpfac']]).T\n",
    "df.columns=([scen_name,base_name])\n",
    "df.fillna(0,inplace=True)\n",
    "df[scen_name] = df[scen_name].astype('int')\n",
    "df[base_name] = df[base_name].astype('int')\n",
    "df"
   ]
  },
  {
   "cell_type": "code",
   "execution_count": 148,
   "metadata": {
    "collapsed": false
   },
   "outputs": [
    {
     "name": "stdout",
     "output_type": "stream",
     "text": [
      "Distribution of Vehilces per Household\n"
     ]
    },
    {
     "data": {
      "text/html": [
       "<div>\n",
       "<table border=\"1\" class=\"dataframe\">\n",
       "  <thead>\n",
       "    <tr style=\"text-align: right;\">\n",
       "      <th></th>\n",
       "      <th>Soundcast</th>\n",
       "      <th>2014 Survey</th>\n",
       "    </tr>\n",
       "    <tr>\n",
       "      <th>hhvehs</th>\n",
       "      <th></th>\n",
       "      <th></th>\n",
       "    </tr>\n",
       "  </thead>\n",
       "  <tbody>\n",
       "    <tr>\n",
       "      <th>0</th>\n",
       "      <td>7.6</td>\n",
       "      <td>7.9</td>\n",
       "    </tr>\n",
       "    <tr>\n",
       "      <th>1</th>\n",
       "      <td>29.1</td>\n",
       "      <td>32.3</td>\n",
       "    </tr>\n",
       "    <tr>\n",
       "      <th>2</th>\n",
       "      <td>38.8</td>\n",
       "      <td>37.9</td>\n",
       "    </tr>\n",
       "    <tr>\n",
       "      <th>3</th>\n",
       "      <td>16.6</td>\n",
       "      <td>14.8</td>\n",
       "    </tr>\n",
       "    <tr>\n",
       "      <th>4</th>\n",
       "      <td>7.9</td>\n",
       "      <td>4.9</td>\n",
       "    </tr>\n",
       "    <tr>\n",
       "      <th>5</th>\n",
       "      <td>0.0</td>\n",
       "      <td>1.5</td>\n",
       "    </tr>\n",
       "    <tr>\n",
       "      <th>6</th>\n",
       "      <td>0.0</td>\n",
       "      <td>0.2</td>\n",
       "    </tr>\n",
       "    <tr>\n",
       "      <th>7</th>\n",
       "      <td>0.0</td>\n",
       "      <td>0.3</td>\n",
       "    </tr>\n",
       "    <tr>\n",
       "      <th>8</th>\n",
       "      <td>0.0</td>\n",
       "      <td>0.1</td>\n",
       "    </tr>\n",
       "    <tr>\n",
       "      <th>10</th>\n",
       "      <td>0.0</td>\n",
       "      <td>0.1</td>\n",
       "    </tr>\n",
       "  </tbody>\n",
       "</table>\n",
       "</div>"
      ],
      "text/plain": [
       "        Soundcast  2014 Survey\n",
       "hhvehs                        \n",
       "0             7.6          7.9\n",
       "1            29.1         32.3\n",
       "2            38.8         37.9\n",
       "3            16.6         14.8\n",
       "4             7.9          4.9\n",
       "5             0.0          1.5\n",
       "6             0.0          0.2\n",
       "7             0.0          0.3\n",
       "8             0.0          0.1\n",
       "10            0.0          0.1"
      ]
     },
     "execution_count": 148,
     "metadata": {},
     "output_type": "execute_result"
    }
   ],
   "source": [
    "print 'Distribution of Vehilces per Household'\n",
    "df_new = pd.DataFrame([df[scen_name]/df[scen_name].sum(),\n",
    "             df[base_name]/df[base_name].sum()]).T*100\n",
    "df_new"
   ]
  },
  {
   "cell_type": "code",
   "execution_count": 149,
   "metadata": {
    "collapsed": false
   },
   "outputs": [
    {
     "data": {
      "text/plain": [
       "<matplotlib.axes._subplots.AxesSubplot at 0x3d9d1e10>"
      ]
     },
     "execution_count": 149,
     "metadata": {},
     "output_type": "execute_result"
    },
    {
     "data": {
      "image/png": "[encoded data removed]",
      "text/plain": [
       "<matplotlib.figure.Figure at 0x6357bb38>"
      ]
     },
     "metadata": {},
     "output_type": "display_data"
    }
   ],
   "source": [
    "df_new.plot(kind='bar', title='Auto Ownership Distribution Regionwide')"
   ]
  },
  {
   "cell_type": "code",
   "execution_count": 150,
   "metadata": {
    "collapsed": false
   },
   "outputs": [
    {
     "name": "stdout",
     "output_type": "stream",
     "text": [
      "Soundcast: 1.8808226021\n",
      "2014 Survey: 1.84776763947\n"
     ]
    }
   ],
   "source": [
    "# Average autos per household\n",
    "print scen_name + \": \" + str(sum(hh_scen['hhvehs']*hh_scen['hhexpfac'])/sum(hh_scen['hhexpfac']))\n",
    "print base_name + \": \" + str(sum(hh_base['hhvehs']*hh_base['hhexpfac'])/sum(hh_base['hhexpfac']))"
   ]
  },
  {
   "cell_type": "code",
   "execution_count": 151,
   "metadata": {
    "collapsed": true
   },
   "outputs": [],
   "source": [
    "# Auto Ownership by Income\n",
    "# Create common income ranges\n",
    "def map_income(df, in_field, out_field):\n",
    "    \n",
    "    # Define categories\n",
    "    incmap = {}\n",
    "    for i in range(0, 20000):\n",
    "        incmap.update({i: ' <20k'})\n",
    "    for i in range(20000, 40000):\n",
    "        incmap.update({i: '20k-40k'})\n",
    "    for i in range(40000, 60000):\n",
    "        incmap.update({i: '40k-60k'})\n",
    "    for i in range(60000, 75000):\n",
    "        incmap.update({i: '60k-75k'})\n",
    "    for i in range(75000, 100000):\n",
    "        incmap.update({i: '75k-100k'})\n",
    "    for i in range(100000, 150000):\n",
    "        incmap.update({i: '100k-150k'})\n",
    "    for i in range(150000, int(df[in_field].max())+1):\n",
    "        incmap.update({i: '>150k'})\n",
    "\n",
    "    df[out_field] = df[in_field].map(incmap)\n",
    "    return df"
   ]
  },
  {
   "cell_type": "code",
   "execution_count": 200,
   "metadata": {
    "collapsed": false
   },
   "outputs": [],
   "source": [
    "hh_scen = map_income(hh_scen, in_field='hhincome', out_field='Income')\n",
    "hh_base = map_income(hh_base, in_field='hhincome', out_field='Income')"
   ]
  },
  {
   "cell_type": "code",
   "execution_count": 201,
   "metadata": {
    "collapsed": false
   },
   "outputs": [],
   "source": [
    "df_scen = pd.pivot_table(data=hh_scen, index='hhvehs', columns='Income', values='hhexpfac', aggfunc='sum')\n",
    "df_base = pd.pivot_table(data=hh_base, index='hhvehs', columns='Income', values='hhexpfac', aggfunc='sum')\n",
    "# # Sort the columns\n",
    "df_scen = df_scen[[' <20k','20k-40k','40k-60k','60k-75k',\n",
    "                   '75k-100k','100k-150k','>150k']]\n",
    "df_base = df_base[[' <20k','20k-40k','40k-60k','60k-75k',\n",
    "                   '75k-100k','100k-150k','>150k']]"
   ]
  },
  {
   "cell_type": "code",
   "execution_count": 213,
   "metadata": {
    "collapsed": false
   },
   "outputs": [],
   "source": [
    "pd.options.display.float_format = '{:.1f}'.format    # set float format as percent, until further notice"
   ]
  },
  {
   "cell_type": "code",
   "execution_count": 214,
   "metadata": {
    "collapsed": false
   },
   "outputs": [
    {
     "data": {
      "text/html": [
       "<div>\n",
       "<table border=\"1\" class=\"dataframe\">\n",
       "  <thead>\n",
       "    <tr style=\"text-align: right;\">\n",
       "      <th></th>\n",
       "      <th>Soundcast</th>\n",
       "      <th>2014 Survey</th>\n",
       "      <th>% difference 2006-&gt;2014</th>\n",
       "    </tr>\n",
       "    <tr>\n",
       "      <th>Income</th>\n",
       "      <th></th>\n",
       "      <th></th>\n",
       "      <th></th>\n",
       "    </tr>\n",
       "  </thead>\n",
       "  <tbody>\n",
       "    <tr>\n",
       "      <th>&lt;20k</th>\n",
       "      <td>1.0</td>\n",
       "      <td>1.0</td>\n",
       "      <td>0.0</td>\n",
       "    </tr>\n",
       "    <tr>\n",
       "      <th>20k-40k</th>\n",
       "      <td>1.5</td>\n",
       "      <td>1.4</td>\n",
       "      <td>-0.1</td>\n",
       "    </tr>\n",
       "    <tr>\n",
       "      <th>40k-60k</th>\n",
       "      <td>1.7</td>\n",
       "      <td>1.6</td>\n",
       "      <td>-0.1</td>\n",
       "    </tr>\n",
       "    <tr>\n",
       "      <th>60k-75k</th>\n",
       "      <td>2.1</td>\n",
       "      <td>1.9</td>\n",
       "      <td>-0.1</td>\n",
       "    </tr>\n",
       "    <tr>\n",
       "      <th>75k-100k</th>\n",
       "      <td>2.3</td>\n",
       "      <td>2.2</td>\n",
       "      <td>-0.0</td>\n",
       "    </tr>\n",
       "    <tr>\n",
       "      <th>100k-150k</th>\n",
       "      <td>2.4</td>\n",
       "      <td>2.4</td>\n",
       "      <td>-0.0</td>\n",
       "    </tr>\n",
       "    <tr>\n",
       "      <th>&gt;150k</th>\n",
       "      <td>2.4</td>\n",
       "      <td>2.6</td>\n",
       "      <td>0.1</td>\n",
       "    </tr>\n",
       "  </tbody>\n",
       "</table>\n",
       "</div>"
      ],
      "text/plain": [
       "           Soundcast  2014 Survey  % difference 2006->2014\n",
       "Income                                                    \n",
       " <20k            1.0          1.0                      0.0\n",
       "20k-40k          1.5          1.4                     -0.1\n",
       "40k-60k          1.7          1.6                     -0.1\n",
       "60k-75k          2.1          1.9                     -0.1\n",
       "75k-100k         2.3          2.2                     -0.0\n",
       "100k-150k        2.4          2.4                     -0.0\n",
       ">150k            2.4          2.6                      0.1"
      ]
     },
     "execution_count": 214,
     "metadata": {},
     "output_type": "execute_result"
    }
   ],
   "source": [
    "# Calculate averages by income class\n",
    "df = pd.DataFrame([[sum(df_scen[colname]*df_scen.index)/sum(df_scen[colname]) for colname in df_scen.columns],\n",
    "                    [sum(df_base[colname]*df_base.index)/sum(df_base[colname]) for colname in df_base.columns]]).T\n",
    "df.index=df_base.columns\n",
    "df.columns=[scen_name,base_name]\n",
    "# df[scen_name] = df[scen_name].astype('int')\n",
    "# df[base_name] = df[base_name].astype('int')\n",
    "df['% difference 2006->2014']= (df[base_name]-df[scen_name])/df[scen_name]\n",
    "df"
   ]
  },
  {
   "cell_type": "code",
   "execution_count": 217,
   "metadata": {
    "collapsed": false
   },
   "outputs": [
    {
     "data": {
      "text/plain": [
       "<matplotlib.axes._subplots.AxesSubplot at 0xc33e54a8>"
      ]
     },
     "execution_count": 217,
     "metadata": {},
     "output_type": "execute_result"
    },
    {
     "data": {
      "image/png": "[encoded data removed]",
      "text/plain": [
       "<matplotlib.figure.Figure at 0xcf20b518>"
      ]
     },
     "metadata": {},
     "output_type": "display_data"
    }
   ],
   "source": [
    "df[[base_name, scen_name]].plot(kind='bar', title='Avg. Cars per Household by Income')"
   ]
  },
  {
   "cell_type": "code",
   "execution_count": null,
   "metadata": {
    "collapsed": true
   },
   "outputs": [],
   "source": []
  }
 ],
 "metadata": {
  "kernelspec": {
   "display_name": "Python 2",
   "language": "python",
   "name": "python2"
  },
  "language_info": {
   "codemirror_mode": {
    "name": "ipython",
    "version": 2
   },
   "file_extension": ".py",
   "mimetype": "text/x-python",
   "name": "python",
   "nbconvert_exporter": "python",
   "pygments_lexer": "ipython2",
   "version": "2.7.11"
  }
 },
 "nbformat": 4,
 "nbformat_minor": 0
}
