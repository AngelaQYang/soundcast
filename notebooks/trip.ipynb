{
 "cells": [
  {
   "cell_type": "markdown",
   "metadata": {
    "collapsed": false
   },
   "source": [
    "## Results from Daysim Trip Demand"
   ]
  },
  {
   "cell_type": "code",
   "execution_count": 1,
   "metadata": {
    "collapsed": false
   },
   "outputs": [
    {
     "data": {
      "text/html": [
       "\n",
       "<script src=\"//code.highcharts.com/stock/highstock.js\"></script>\n",
       "<script src=\"//code.highcharts.com/highcharts-more.js\"></script>\n",
       "<script src=\"//code.highcharts.com/modules/exporting.js\"></script>\n"
      ],
      "text/plain": [
       "<IPython.core.display.HTML object>"
      ]
     },
     "metadata": {},
     "output_type": "display_data"
    },
    {
     "name": "stdout",
     "output_type": "stream",
     "text": [
      "Populating the interactive namespace from numpy and matplotlib\n"
     ]
    }
   ],
   "source": [
    "import os\n",
    "import numpy as np\n",
    "import pandas as pd\n",
    "import h5py\n",
    "import pylab as P\n",
    "from IPython.display import display, display_pretty, Javascript, HTML\n",
    "from pandas_highcharts.core import serialize\n",
    "from pandas_highcharts.display import display_charts\n",
    "import matplotlib.pyplot as plt\n",
    "\n",
    "# Show charts in notebook\n",
    "%pylab inline"
   ]
  },
  {
   "cell_type": "code",
   "execution_count": 2,
   "metadata": {
    "collapsed": false
   },
   "outputs": [],
   "source": [
    "# Set main model directory to parent directory\n",
    "model_dir = os.path.dirname(os.getcwd())\n",
    "base_dir = r'R:\\SoundCast\\Inputs\\2010\\etc'"
   ]
  },
  {
   "cell_type": "code",
   "execution_count": 3,
   "metadata": {
    "collapsed": false
   },
   "outputs": [],
   "source": [
    "# Read Model Scenario Results\n",
    "scen = h5py.File(model_dir + r'/outputs/daysim_outputs.h5','r+')\n",
    "scen_name = 'Model: 2040'"
   ]
  },
  {
   "cell_type": "code",
   "execution_count": 4,
   "metadata": {
    "collapsed": false
   },
   "outputs": [],
   "source": [
    "# Read Base Data\n",
    "base_file = '/daysim_outputs_seed_trips.h5'\n",
    "\n",
    "base = h5py.File(base_dir + base_file ,'r+')\n",
    "base_name = '2010 Base'"
   ]
  },
  {
   "cell_type": "code",
   "execution_count": 5,
   "metadata": {
    "collapsed": false
   },
   "outputs": [],
   "source": [
    "container = 'Trip'\n",
    "fieldname = 'Trip Purpose'\n",
    "fieldvar = 'dpurp'\n",
    "labels = {\n",
    "  0: \"None/Home\",  \n",
    "  1: \"Work\",\n",
    "  2: \"School\",\n",
    "  3: \"Escort\",\n",
    "  4: \"Personal Business\",\n",
    "  5: \"Shopping\",\n",
    "  6: \"Meal\",\n",
    "  7: \"Social\",\n",
    "  8: \"Recreational\",\n",
    "  9: \"Medical\",\n",
    "  10: \"Change mode\"\n",
    "}\n",
    "df = pd.DataFrame(np.asarray(base[container][fieldvar]), columns=[fieldvar])\n",
    "df[fieldname] = [labels[x] for x in df[fieldvar].as_matrix()]\n",
    "df_base = df.groupby(fieldname).count()[fieldvar]    # Sum by category\n",
    "df_base = df_base/df_base.sum()     # Convert totals to shares\n",
    "\n",
    "# Sum by worker type for scenario\n",
    "df = pd.DataFrame(np.asarray(scen[container][fieldvar]), columns=[fieldvar])\n",
    "df[fieldname] = [labels[x] for x in df[fieldvar].as_matrix()]\n",
    "df_scen = df.groupby(fieldname).count()[fieldvar]    # Sum by category\n",
    "df_scen = df_scen/df_scen.sum()     # Convert totals to shares"
   ]
  },
  {
   "cell_type": "code",
   "execution_count": 6,
   "metadata": {
    "collapsed": false
   },
   "outputs": [],
   "source": [
    "trip_p_df = pd.DataFrame([df_scen, df_base]).T\n",
    "trip_p_df.columns = [ 'Model', 'Base 2010']"
   ]
  },
  {
   "cell_type": "markdown",
   "metadata": {},
   "source": [
    "## Trip Purpose"
   ]
  },
  {
   "cell_type": "code",
   "execution_count": 98,
   "metadata": {
    "collapsed": false
   },
   "outputs": [
    {
     "data": {
      "text/html": [
       "<div id=\"chart_idXzRWewjU\"</div>\n",
       "    <script type=\"text/javascript\">new Highcharts.Chart({\"title\":{\"text\":\"Trip Rates by Purpose\"},\"series\":[{\"data\":[[\"Change mode\",0.0093718191],[\"Escort\",0.0992980817],[\"Meal\",0.0763836],[\"None\\/Home\",0.3413676986],[\"Personal Business\",0.144931157],[\"School\",0.0520938028],[\"Shopping\",0.0544915243],[\"Social\",0.086149598],[\"Work\",0.1359127185]],\"name\":\"Model\",\"yAxis\":0},{\"data\":[[\"Change mode\",0.0051642432],[\"Escort\",0.1162315815],[\"Meal\",0.0439198079],[\"None\\/Home\",0.3472099647],[\"Personal Business\",0.1426298976],[\"School\",0.0631386849],[\"Shopping\",0.0524979739],[\"Social\",0.0833326739],[\"Work\",0.1458751725]],\"name\":\"Base 2010\",\"yAxis\":0}],\"yAxis\":[{}],\"chart\":{\"renderTo\":\"chart_idXzRWewjU\",\"type\":\"column\"},\"xAxis\":{\"categories\":[\"Change mode\",\"Escort\",\"Meal\",\"None\\/Home\",\"Personal Business\",\"School\",\"Shopping\",\"Social\",\"Work\"],\"title\":{\"text\":\"Trip Purpose\"}},\"legend\":{\"enabled\":true}});</script>"
      ],
      "text/plain": [
       "<IPython.core.display.HTML object>"
      ]
     },
     "metadata": {},
     "output_type": "display_data"
    }
   ],
   "source": [
    "display_charts(trip_p_df, title='Trip Rates by Purpose', kind='bar')"
   ]
  },
  {
   "cell_type": "code",
   "execution_count": 100,
   "metadata": {
    "collapsed": false
   },
   "outputs": [],
   "source": [
    "trip_p_df.to_clipboard()"
   ]
  },
  {
   "cell_type": "markdown",
   "metadata": {},
   "source": [
    "## Mode Choice"
   ]
  },
  {
   "cell_type": "code",
   "execution_count": 54,
   "metadata": {
    "collapsed": false
   },
   "outputs": [],
   "source": [
    "# Travel Cost by Mode\n",
    "trip_scen = pd.DataFrame(data={'Household ID': scen['Trip']['hhno'][:],\n",
    "                                'Travel Time': scen['Trip']['travtime'][:],\n",
    "                                'Travel Cost': scen['Trip']['travcost'][:],\n",
    "                                'Travel Distance': scen['Trip']['travdist'][:],\n",
    "                                'Mode': scen['Trip']['mode'][:],\n",
    "                                'Purpose': scen['Trip']['dpurp'][:]})\n",
    "\n",
    "trip_base = pd.DataFrame(data={'Household ID': base['Trip']['hhno'][:],\n",
    "                                'Travel Time': base['Trip']['travtime'][:],\n",
    "                                'Travel Cost': base['Trip']['travcost'][:],\n",
    "                                'Travel Distance': base['Trip']['travdist'][:],\n",
    "                                'Mode': base['Trip']['mode'][:],\n",
    "                                'Purpose': base['Trip']['dpurp'][:]})"
   ]
  },
  {
   "cell_type": "code",
   "execution_count": 23,
   "metadata": {
    "collapsed": false
   },
   "outputs": [],
   "source": [
    "# pd.pivot_table(data=trip_scen, index='Mode', columns='Purpose', aggfunc='count')['Household ID']\n",
    "trips_by_mode = trip_scen.groupby('Mode').count()[['Household ID']]"
   ]
  },
  {
   "cell_type": "code",
   "execution_count": 45,
   "metadata": {
    "collapsed": false
   },
   "outputs": [],
   "source": [
    "avg_dist_by_mode = trip_scen.groupby('Mode').mean()[['Travel Time']]\n",
    "avg_dist_by_mode.index = ['Walk', 'Bike', 'SOV', 'HOV2', 'HOV3+', 'Transit', 'School Bus']"
   ]
  },
  {
   "cell_type": "code",
   "execution_count": 101,
   "metadata": {
    "collapsed": false
   },
   "outputs": [
    {
     "data": {
      "text/html": [
       "<div id=\"chart_idIXjGhwAk\"</div>\n",
       "    <script type=\"text/javascript\">new Highcharts.Chart({\"title\":{\"text\":\"Average Travel Time by Mode\"},\"series\":[{\"data\":[[\"Walk\",22.9892346485],[\"Bike\",15.6657646471],[\"SOV\",17.5541061295],[\"HOV2\",14.5857743592],[\"HOV3+\",14.1486075941],[\"Transit\",37.1360340271],[\"School Bus\",12.394218989]],\"name\":\"Travel Time\",\"yAxis\":0}],\"yAxis\":[{\"max\":30,\"min\":0}],\"chart\":{\"renderTo\":\"chart_idIXjGhwAk\",\"type\":\"column\"},\"xAxis\":{\"categories\":[\"Walk\",\"Bike\",\"SOV\",\"HOV2\",\"HOV3+\",\"Transit\",\"School Bus\"]},\"legend\":{\"enabled\":true}});</script>"
      ],
      "text/plain": [
       "<IPython.core.display.HTML object>"
      ]
     },
     "metadata": {},
     "output_type": "display_data"
    }
   ],
   "source": [
    "display_charts(avg_dist_by_mode, kind='bar', title='Average Travel Time by Mode', ylim=(0, 30))"
   ]
  },
  {
   "cell_type": "code",
   "execution_count": 80,
   "metadata": {
    "collapsed": false
   },
   "outputs": [
    {
     "data": {
      "text/plain": [
       "26861540374013.0"
      ]
     },
     "execution_count": 80,
     "metadata": {},
     "output_type": "execute_result"
    }
   ],
   "source": [
    "trip_scen.sum()['Household ID']"
   ]
  },
  {
   "cell_type": "markdown",
   "metadata": {},
   "source": [
    "## Trips by Purpose"
   ]
  },
  {
   "cell_type": "code",
   "execution_count": 104,
   "metadata": {
    "collapsed": false
   },
   "outputs": [
    {
     "ename": "KeyError",
     "evalue": "0.34136769858594029",
     "output_type": "error",
     "traceback": [
      "\u001b[1;31m---------------------------------------------------------------------------\u001b[0m",
      "\u001b[1;31mKeyError\u001b[0m                                  Traceback (most recent call last)",
      "\u001b[1;32m<ipython-input-104-ef081534477f>\u001b[0m in \u001b[0;36m<module>\u001b[1;34m()\u001b[0m\n\u001b[0;32m     17\u001b[0m }\n\u001b[0;32m     18\u001b[0m \u001b[1;33m\u001b[0m\u001b[0m\n\u001b[1;32m---> 19\u001b[1;33m \u001b[0mdf\u001b[0m\u001b[1;33m[\u001b[0m\u001b[0mfieldname\u001b[0m\u001b[1;33m]\u001b[0m \u001b[1;33m=\u001b[0m \u001b[1;33m[\u001b[0m\u001b[0mlabels\u001b[0m\u001b[1;33m[\u001b[0m\u001b[0mx\u001b[0m\u001b[1;33m]\u001b[0m \u001b[1;32mfor\u001b[0m \u001b[0mx\u001b[0m \u001b[1;32min\u001b[0m \u001b[0mdf\u001b[0m\u001b[1;33m[\u001b[0m\u001b[1;34m'scen'\u001b[0m\u001b[1;33m]\u001b[0m\u001b[1;33m.\u001b[0m\u001b[0mas_matrix\u001b[0m\u001b[1;33m(\u001b[0m\u001b[1;33m)\u001b[0m\u001b[1;33m]\u001b[0m\u001b[1;33m\u001b[0m\u001b[0m\n\u001b[0m",
      "\u001b[1;31mKeyError\u001b[0m: 0.34136769858594029"
     ]
    }
   ],
   "source": [
    "df = pd.DataFrame(data=[trip_scen.groupby('Purpose').count()['Household ID']/trip_scen.count()['Household ID'], \n",
    "                        trip_base.groupby('Purpose').count()['Household ID']/trip_base.count()['Household ID']]).T\n",
    "df.columns = ['scen', 'base']\n"
   ]
  },
  {
   "cell_type": "code",
   "execution_count": 103,
   "metadata": {
    "collapsed": false
   },
   "outputs": [
    {
     "data": {
      "text/html": [
       "<div id=\"chart_idxwJgHBXg\"</div>\n",
       "    <script type=\"text/javascript\">new Highcharts.Chart({\"title\":{\"text\":\"Travel Time by Mode\"},\"series\":[{\"data\":[[0,0.3413676986],[1,0.1359127185],[2,0.0520938028],[3,0.0992980817],[4,0.144931157],[5,0.0544915243],[6,0.0763836],[7,0.086149598],[10,0.0093718191]],\"name\":\"scen\",\"yAxis\":0},{\"data\":[[0,0.3472099647],[1,0.1458751725],[2,0.0631386849],[3,0.1162315815],[4,0.1426298976],[5,0.0524979739],[6,0.0439198079],[7,0.0833326739],[10,0.0051642432]],\"name\":\"base\",\"yAxis\":0}],\"yAxis\":[{\"tickPositions\":false}],\"chart\":{\"renderTo\":\"chart_idxwJgHBXg\",\"type\":\"column\"},\"xAxis\":{\"title\":{\"text\":\"Purpose\"}},\"legend\":{\"enabled\":true}});</script>"
      ],
      "text/plain": [
       "<IPython.core.display.HTML object>"
      ]
     },
     "metadata": {},
     "output_type": "display_data"
    }
   ],
   "source": [
    "display_charts(df, kind='bar', title='Travel Time by Mode', yticks=False)"
   ]
  },
  {
   "cell_type": "code",
   "execution_count": null,
   "metadata": {
    "collapsed": false
   },
   "outputs": [],
   "source": []
  },
  {
   "cell_type": "code",
   "execution_count": null,
   "metadata": {
    "collapsed": true
   },
   "outputs": [],
   "source": []
  },
  {
   "cell_type": "markdown",
   "metadata": {
    "collapsed": true
   },
   "source": [
    "## Trip Length"
   ]
  },
  {
   "cell_type": "code",
   "execution_count": 38,
   "metadata": {
    "collapsed": true
   },
   "outputs": [],
   "source": [
    "varname = 'travdist'\n",
    "\n",
    "triplen_base = np.asarray(base['Trip'][varname])\n",
    "triplen_scen = np.asarray(scen['Trip'][varname])"
   ]
  },
  {
   "cell_type": "code",
   "execution_count": 39,
   "metadata": {
    "collapsed": false
   },
   "outputs": [
    {
     "data": {
      "text/plain": [
       "<matplotlib.legend.Legend at 0x7674ab70>"
      ]
     },
     "execution_count": 39,
     "metadata": {},
     "output_type": "execute_result"
    },
    {
     "data": {
      "image/png": "[encoded data removed]",
      "text/plain": [
       "<matplotlib.figure.Figure at 0x7674aba8>"
      ]
     },
     "metadata": {},
     "output_type": "display_data"
    }
   ],
   "source": [
    "bins = 1000\n",
    "\n",
    "P.hist(triplen_scen, bins=bins, normed=True, histtype='step', color='b', label=scen_name)\n",
    "P.hist(triplen_base, bins=bins, normed=True, histtype='step', color='grey', alpha=0.3, label=base_name)\n",
    "P.xlim([0,40])    # Cutting the tail at 40 to focus on shorter trip distribution\n",
    "P.xlabel('Trip Length')\n",
    "P.ylabel('Distribution')\n",
    "P.legend()"
   ]
  },
  {
   "cell_type": "markdown",
   "metadata": {
    "collapsed": true
   },
   "source": [
    "## Travel Time"
   ]
  },
  {
   "cell_type": "code",
   "execution_count": 40,
   "metadata": {
    "collapsed": true
   },
   "outputs": [],
   "source": [
    "varname = 'travtime'\n",
    "\n",
    "triptime_base = np.asarray(base['Trip'][varname])\n",
    "triptime_scen = np.asarray(scen['Trip'][varname])"
   ]
  },
  {
   "cell_type": "code",
   "execution_count": null,
   "metadata": {
    "collapsed": true
   },
   "outputs": [],
   "source": []
  },
  {
   "cell_type": "code",
   "execution_count": 41,
   "metadata": {
    "collapsed": false
   },
   "outputs": [
    {
     "data": {
      "text/plain": [
       "<matplotlib.legend.Legend at 0x7673ceb8>"
      ]
     },
     "execution_count": 41,
     "metadata": {},
     "output_type": "execute_result"
    },
    {
     "data": {
      "image/png": "[encoded data removed]",
      "text/plain": [
       "<matplotlib.figure.Figure at 0x6fd5f0b8>"
      ]
     },
     "metadata": {},
     "output_type": "display_data"
    }
   ],
   "source": [
    "bins = 1000\n",
    "\n",
    "P.hist(triptime_scen, bins=bins, normed=True, histtype='step', color='b', label=scen_name)\n",
    "P.hist(triptime_base, bins=bins, normed=True, histtype='step', color='grey', alpha=0.3, label=base_name)\n",
    "P.xlim([0,40])    # Cutting the tail at 40 to focus on shorter trip distribution\n",
    "P.xlabel('Trip Time')\n",
    "P.ylabel('Distribution')\n",
    "P.legend()"
   ]
  },
  {
   "cell_type": "markdown",
   "metadata": {
    "collapsed": true
   },
   "source": [
    "## Value of Time"
   ]
  },
  {
   "cell_type": "code",
   "execution_count": 42,
   "metadata": {
    "collapsed": false
   },
   "outputs": [],
   "source": [
    "varname = 'vot'\n",
    "\n",
    "vot_base = np.asarray(base['Trip'][varname])\n",
    "vot_scen = np.asarray(scen['Trip'][varname])"
   ]
  },
  {
   "cell_type": "code",
   "execution_count": 43,
   "metadata": {
    "collapsed": false
   },
   "outputs": [
    {
     "data": {
      "text/plain": [
       "<matplotlib.legend.Legend at 0x6a93c9b0>"
      ]
     },
     "execution_count": 43,
     "metadata": {},
     "output_type": "execute_result"
    },
    {
     "data": {
      "image/png": "[encoded data removed]",
      "text/plain": [
       "<matplotlib.figure.Figure at 0x6a93cb38>"
      ]
     },
     "metadata": {},
     "output_type": "display_data"
    }
   ],
   "source": [
    "bins = 1000\n",
    "\n",
    "P.hist(vot_scen, bins=bins, normed=True, histtype='step', color='b', label=scen_name)\n",
    "P.hist(vot_base, bins=bins, normed=True, histtype='step', color='grey', alpha=0.3, label=base_name)\n",
    "P.xlim([0,70])    # Cutting the tail at 70 to focus on shorter trip distribution\n",
    "P.xlabel('Value of Time')\n",
    "P.ylabel('Distribution')\n",
    "P.legend()"
   ]
  },
  {
   "cell_type": "code",
   "execution_count": null,
   "metadata": {
    "collapsed": true
   },
   "outputs": [],
   "source": []
  },
  {
   "cell_type": "code",
   "execution_count": null,
   "metadata": {
    "collapsed": true
   },
   "outputs": [],
   "source": []
  }
 ],
 "metadata": {
  "kernelspec": {
   "display_name": "Python 2",
   "language": "python",
   "name": "python2"
  },
  "language_info": {
   "codemirror_mode": {
    "name": "ipython",
    "version": 2
   },
   "file_extension": ".py",
   "mimetype": "text/x-python",
   "name": "python",
   "nbconvert_exporter": "python",
   "pygments_lexer": "ipython2",
   "version": "2.7.10"
  }
 },
 "nbformat": 4,
 "nbformat_minor": 0
}
